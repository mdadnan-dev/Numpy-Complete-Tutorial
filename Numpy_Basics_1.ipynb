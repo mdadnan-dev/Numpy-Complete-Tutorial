{
 "cells": [
  {
   "cell_type": "markdown",
   "id": "c07c04e6",
   "metadata": {},
   "source": [
    "# --- THE BEGINNING OF NUMPY --- #"
   ]
  },
  {
   "cell_type": "markdown",
   "id": "bc351a21",
   "metadata": {},
   "source": [
    "###### --> how to import numpy \n",
    "###### --> how to pip install numpy (if it is not present ) \n",
    "###### --> How to create arrays \n",
    "###### --> How to use baisc numpy functions \n",
    "     --> zeros \n",
    "     --> ones\n",
    "     --> full\n",
    "     --> arange\n",
    "     --> linespace\n",
    "     --> random\n",
    "          --> random.random\n",
    "          --> random.randint\n",
    "          --> random.uniform\n",
    "     --> eye\n",
    "     --> ndim\n",
    "     --> shape\n",
    "     --> size\n",
    "     --> dtype\n",
    "     --> itemsize\n",
    "     --> nbytes\n",
    "    \n",
    "    "
   ]
  },
  {
   "cell_type": "code",
   "execution_count": 1,
   "id": "c43ddf88",
   "metadata": {},
   "outputs": [],
   "source": [
    "import numpy as np   # Here we are importing the numpy library of python and aliasing it as np"
   ]
  },
  {
   "cell_type": "code",
   "execution_count": null,
   "id": "59885811",
   "metadata": {},
   "outputs": [],
   "source": [
    "!pip install numpy # This installs numpy on the Jupyter Notebook"
   ]
  },
  {
   "cell_type": "code",
   "execution_count": 2,
   "id": "8e7999ee",
   "metadata": {},
   "outputs": [
    {
     "data": {
      "text/plain": [
       "array([1, 2, 3, 4, 5])"
      ]
     },
     "execution_count": 2,
     "metadata": {},
     "output_type": "execute_result"
    }
   ],
   "source": [
    "# creating an array \n",
    "# arrays can be 1D , 2D, 3D \n",
    "\n",
    "a = np.array([1,2,3,4,5]) # 1D array\n",
    "a"
   ]
  },
  {
   "cell_type": "code",
   "execution_count": 14,
   "id": "b8a260b2",
   "metadata": {},
   "outputs": [
    {
     "data": {
      "text/plain": [
       "array([[1, 2, 3, 4],\n",
       "       [3, 4, 5, 6]])"
      ]
     },
     "execution_count": 14,
     "metadata": {},
     "output_type": "execute_result"
    }
   ],
   "source": [
    "a = np.array([[1,2,3,4],[3,4,5,6]]) # 2D array\n",
    "a"
   ]
  },
  {
   "cell_type": "code",
   "execution_count": 17,
   "id": "845965e6",
   "metadata": {},
   "outputs": [
    {
     "data": {
      "text/plain": [
       "array([[[ 1,  2,  3],\n",
       "        [ 2,  3,  4]],\n",
       "\n",
       "       [[ 1,  2,  3],\n",
       "        [ 6, 12, 18]]])"
      ]
     },
     "execution_count": 17,
     "metadata": {},
     "output_type": "execute_result"
    }
   ],
   "source": [
    "a = np.array([[[1,2,3],[2,3,4]] ,[[1,2,3],[6,12,18]]]) # 3D array\n",
    "a"
   ]
  },
  {
   "cell_type": "code",
   "execution_count": 19,
   "id": "fe39878d",
   "metadata": {},
   "outputs": [
    {
     "data": {
      "text/plain": [
       "array([0., 0., 0., 0., 0.])"
      ]
     },
     "execution_count": 19,
     "metadata": {},
     "output_type": "execute_result"
    }
   ],
   "source": [
    "a = np.zeros(5)  # creates a 1D array of zeros\n",
    "a"
   ]
  },
  {
   "cell_type": "code",
   "execution_count": 20,
   "id": "3a395b5a",
   "metadata": {},
   "outputs": [
    {
     "data": {
      "text/plain": [
       "array([[0., 0., 0., 0.],\n",
       "       [0., 0., 0., 0.]])"
      ]
     },
     "execution_count": 20,
     "metadata": {},
     "output_type": "execute_result"
    }
   ],
   "source": [
    "a = np.zeros((2,4)) # creates a 2D array of zeros\n",
    "a"
   ]
  },
  {
   "cell_type": "code",
   "execution_count": 23,
   "id": "7876e916",
   "metadata": {},
   "outputs": [
    {
     "data": {
      "text/plain": [
       "array([[[0., 0.],\n",
       "        [0., 0.]],\n",
       "\n",
       "       [[0., 0.],\n",
       "        [0., 0.]],\n",
       "\n",
       "       [[0., 0.],\n",
       "        [0., 0.]]])"
      ]
     },
     "execution_count": 23,
     "metadata": {},
     "output_type": "execute_result"
    }
   ],
   "source": [
    "a = np.zeros(((3,2,2))) # creates a 3D array of zeros \n",
    "a"
   ]
  },
  {
   "cell_type": "code",
   "execution_count": 27,
   "id": "7744733e",
   "metadata": {},
   "outputs": [
    {
     "data": {
      "text/plain": [
       "array([1., 1., 1.])"
      ]
     },
     "execution_count": 27,
     "metadata": {},
     "output_type": "execute_result"
    }
   ],
   "source": [
    "a = np.ones(3) # creates a 1D array of ones\n",
    "a"
   ]
  },
  {
   "cell_type": "code",
   "execution_count": 28,
   "id": "db990849",
   "metadata": {},
   "outputs": [
    {
     "data": {
      "text/plain": [
       "array([[1., 1., 1.],\n",
       "       [1., 1., 1.]])"
      ]
     },
     "execution_count": 28,
     "metadata": {},
     "output_type": "execute_result"
    }
   ],
   "source": [
    "b = np.ones((2,3)) # creates a 2D array of ones\n",
    "b"
   ]
  },
  {
   "cell_type": "code",
   "execution_count": 29,
   "id": "ee1182b0",
   "metadata": {},
   "outputs": [
    {
     "data": {
      "text/plain": [
       "array([[[1., 1., 1.],\n",
       "        [1., 1., 1.],\n",
       "        [1., 1., 1.]],\n",
       "\n",
       "       [[1., 1., 1.],\n",
       "        [1., 1., 1.],\n",
       "        [1., 1., 1.]]])"
      ]
     },
     "execution_count": 29,
     "metadata": {},
     "output_type": "execute_result"
    }
   ],
   "source": [
    "c = np.ones((2,3,3)) # creates a 3D array of ones \n",
    "c"
   ]
  },
  {
   "cell_type": "code",
   "execution_count": 31,
   "id": "a6542f60",
   "metadata": {},
   "outputs": [
    {
     "name": "stdout",
     "output_type": "stream",
     "text": [
      "Dimensions of a - 1\n",
      "Dimensions of b - 2\n",
      "Dimensions of c - 3\n"
     ]
    }
   ],
   "source": [
    "print(\"Dimensions of a -\",a.ndim)\n",
    "print(\"Dimensions of b -\",b.ndim)\n",
    "print(\"Dimensions of c -\",c.ndim)"
   ]
  },
  {
   "cell_type": "code",
   "execution_count": 32,
   "id": "f318b510",
   "metadata": {},
   "outputs": [
    {
     "data": {
      "text/plain": [
       "array([1, 2, 3, 4, 5, 6, 7, 8, 9])"
      ]
     },
     "execution_count": 32,
     "metadata": {},
     "output_type": "execute_result"
    }
   ],
   "source": [
    "a = np.arange(1,10) # creates a 1D array from 1 inclusive to 10 exclusive\n",
    "a"
   ]
  },
  {
   "cell_type": "code",
   "execution_count": 35,
   "id": "c903f2d3",
   "metadata": {},
   "outputs": [
    {
     "data": {
      "text/plain": [
       "array([1. , 3.5, 6. ])"
      ]
     },
     "execution_count": 35,
     "metadata": {},
     "output_type": "execute_result"
    }
   ],
   "source": [
    "a = np.linspace(1,6,3) # It creates a 1D array with 3 equally spaced values\n",
    "a"
   ]
  },
  {
   "cell_type": "code",
   "execution_count": 41,
   "id": "ef8b6b8e",
   "metadata": {},
   "outputs": [
    {
     "data": {
      "text/plain": [
       "array([[11, 11, 11, 11],\n",
       "       [11, 11, 11, 11]])"
      ]
     },
     "execution_count": 41,
     "metadata": {},
     "output_type": "execute_result"
    }
   ],
   "source": [
    "a = np.full((2,4), 11 )  # It fills the 2D array consisting of 2 rows and 4 columns with the value 11\n",
    "a"
   ]
  },
  {
   "cell_type": "code",
   "execution_count": 36,
   "id": "9efbe8e0",
   "metadata": {},
   "outputs": [
    {
     "data": {
      "text/plain": [
       "array([3, 4, 4])"
      ]
     },
     "execution_count": 36,
     "metadata": {},
     "output_type": "execute_result"
    }
   ],
   "source": [
    "a = np.random.randint(5, size = 3) # creates a 1D array of size 3 with random integers between 0 inclusive and 5 exclusive\n",
    "a"
   ]
  },
  {
   "cell_type": "code",
   "execution_count": 39,
   "id": "9b895f70",
   "metadata": {},
   "outputs": [
    {
     "data": {
      "text/plain": [
       "array([[1, 3, 4, 3, 0],\n",
       "       [0, 2, 1, 3, 1],\n",
       "       [0, 4, 2, 4, 4]])"
      ]
     },
     "execution_count": 39,
     "metadata": {},
     "output_type": "execute_result"
    }
   ],
   "source": [
    "a = np.random.randint(5, size = (3,5)) # creates a 2D array of 3 rows and 5 columns with random integers between 0 inclusive and 5 exclusive\n",
    "a"
   ]
  },
  {
   "cell_type": "code",
   "execution_count": 40,
   "id": "f800db58",
   "metadata": {},
   "outputs": [
    {
     "data": {
      "text/plain": [
       "array([[[5, 5],\n",
       "        [1, 0],\n",
       "        [4, 3],\n",
       "        [8, 9]],\n",
       "\n",
       "       [[7, 7],\n",
       "        [8, 5],\n",
       "        [7, 0],\n",
       "        [6, 0]]])"
      ]
     },
     "execution_count": 40,
     "metadata": {},
     "output_type": "execute_result"
    }
   ],
   "source": [
    "# creates a 3D array 2 blocks (or layers),Each block contains 4 rows,Each row contains 2 columns with random integers between 0 inclusive and 10 exclusive\n",
    "a = np.random.randint(10, size = (2,4,2)) \n",
    "a"
   ]
  },
  {
   "cell_type": "code",
   "execution_count": 43,
   "id": "63a190e7",
   "metadata": {},
   "outputs": [
    {
     "data": {
      "text/plain": [
       "array([[0.10688436, 0.09478274],\n",
       "       [0.56480201, 0.68911856],\n",
       "       [0.4469083 , 0.54951409]])"
      ]
     },
     "execution_count": 43,
     "metadata": {},
     "output_type": "execute_result"
    }
   ],
   "source": [
    "uniform_distribution = np.random.random((3,2))  # creates a 3x2 array of uniformly distributed random values between 0 and 1 \n",
    "uniform_distribution"
   ]
  },
  {
   "cell_type": "code",
   "execution_count": 44,
   "id": "a10df3ec",
   "metadata": {},
   "outputs": [
    {
     "data": {
      "text/plain": [
       "array([0.66842811, 0.25615329])"
      ]
     },
     "execution_count": 44,
     "metadata": {},
     "output_type": "execute_result"
    }
   ],
   "source": [
    "uniform_dis = np.random.random(2) # creates a 1x2 array of uniformly distributed random values between 0 and 1 \n",
    "uniform_dis"
   ]
  },
  {
   "cell_type": "code",
   "execution_count": 45,
   "id": "bbf19bc1",
   "metadata": {},
   "outputs": [
    {
     "data": {
      "text/plain": [
       "array([[ 0.55239127, -0.77969393],\n",
       "       [-2.72066135, -0.65776981]])"
      ]
     },
     "execution_count": 45,
     "metadata": {},
     "output_type": "execute_result"
    }
   ],
   "source": [
    "# creates a 2x2 array of normally distributed random values with mean- 0 and standard deviation- 1 \n",
    "normally_distributed = np.random.normal(0,1,(2,2)) \n",
    "normally_distributed"
   ]
  },
  {
   "cell_type": "code",
   "execution_count": 46,
   "id": "16989d91",
   "metadata": {},
   "outputs": [
    {
     "data": {
      "text/plain": [
       "array([[-2.48684526],\n",
       "       [ 2.22529033],\n",
       "       [ 4.17714931]])"
      ]
     },
     "execution_count": 46,
     "metadata": {},
     "output_type": "execute_result"
    }
   ],
   "source": [
    "# creates a 3x1 array of normally distributed random values with mean - 1 and standard deviation - 4\n",
    "normal_dis = np.random.normal(1,4, (3,1)) \n",
    "normal_dis"
   ]
  },
  {
   "cell_type": "code",
   "execution_count": 47,
   "id": "52b4ceee",
   "metadata": {},
   "outputs": [
    {
     "data": {
      "text/plain": [
       "array([[1., 0.],\n",
       "       [0., 1.]])"
      ]
     },
     "execution_count": 47,
     "metadata": {},
     "output_type": "execute_result"
    }
   ],
   "source": [
    "a = np.eye(2,2) # creates a 2x2 identity matrix\n",
    "a "
   ]
  },
  {
   "cell_type": "code",
   "execution_count": 48,
   "id": "9d3ed579",
   "metadata": {},
   "outputs": [
    {
     "data": {
      "text/plain": [
       "array([[1.]])"
      ]
     },
     "execution_count": 48,
     "metadata": {},
     "output_type": "execute_result"
    }
   ],
   "source": [
    "a = np.eye(1) # creates a 1x1 identity matrix\n",
    "a"
   ]
  },
  {
   "cell_type": "code",
   "execution_count": 49,
   "id": "b19a2a32",
   "metadata": {},
   "outputs": [
    {
     "data": {
      "text/plain": [
       "array([[1., 0., 0.],\n",
       "       [0., 1., 0.],\n",
       "       [0., 0., 1.]])"
      ]
     },
     "execution_count": 49,
     "metadata": {},
     "output_type": "execute_result"
    }
   ],
   "source": [
    "a = np.eye(3) # creates a 3x3 identity matrix\n",
    "a"
   ]
  },
  {
   "cell_type": "code",
   "execution_count": 18,
   "id": "a65f3c7d",
   "metadata": {},
   "outputs": [
    {
     "name": "stdout",
     "output_type": "stream",
     "text": [
      "[2 3]\n",
      "[2 3] Dimensions- 1\n",
      "[2 3] Shape- (2,)\n",
      "[2 3] Size- 2\n",
      "[2 3] Data type- int32\n",
      "[2 3] Itemsize- 4\n",
      "[2 3] nbytes- 8\n"
     ]
    }
   ],
   "source": [
    "\n",
    "a = np.array([2,3])\n",
    "\n",
    "print (a)\n",
    "\n",
    "print(a,'Dimensions-',a.ndim) # Provides the dimensions of array , in this example the array is 1 Dimensional\n",
    "\n",
    "print(a,'Shape-',a.shape) # Provides the shape of the array as a tuple (indicates the structure of the array) - In the example there are 2 rows and 0 columns so the output is (2,)\n",
    "\n",
    "print(a,'Size-',a.size) # Provides the total number of elements in the array - In the example there are only 2 values. Hence, the output is 2 \n",
    "\n",
    "print(a,'Data type-',a.dtype) # Provides the data type of the elements in the array - In the example the data type is int32 - The array stores 32 bit integers \n",
    "\n",
    "print(a,'Itemsize-',a.itemsize) # Provides the size in bytes of each element in the array - In the example, each integer occupies 4 bytes [int32 uses 4 bytes per integer]\n",
    "\n",
    "print(a,'nbytes-',a.nbytes) # Provides The total number of bytes consumed by the array- [ nbytes =  size * itemsize ] -- 2*4 = 8"
   ]
  },
  {
   "cell_type": "code",
   "execution_count": 19,
   "id": "773c8447",
   "metadata": {},
   "outputs": [
    {
     "name": "stdout",
     "output_type": "stream",
     "text": [
      "[[  1.  23.   2.]\n",
      " [ 11.  22. 434.]]\n",
      "\n",
      "\n",
      "Dimensions- 2\n",
      "Shape- (2, 3)\n",
      "Size- 6\n",
      "Data type- float64\n",
      "Itemsize- 8\n",
      "nbytes- 48\n"
     ]
    }
   ],
   "source": [
    "b = np.array([[1,23,2],[11,22,434]], dtype='float')\n",
    "\n",
    "print(b)\n",
    "\n",
    "print('\\n')\n",
    "\n",
    "print('Dimensions-',b.ndim) # Provides the dimensions of array , in this example the array is 2 Dimensional\n",
    "\n",
    "print('Shape-',b.shape) # Provides the shape of the array as a tuple (indicates the structure of the array) - In the example there are 2 rows and 3 columns so the output is (2,)\n",
    "\n",
    "\n",
    "print('Size-',b.size) # Provides the total number of elements in the array - In the example there are only 6 values. Hence, the output is 6\n",
    "\n",
    "\n",
    "print('Data type-',b.dtype) # Provides the data type of the elements in the array - In the example the data type is float64 - The array stores 64 bit float values \n",
    "\n",
    "\n",
    "print('Itemsize-',b.itemsize) # Provides the size in bytes of each element in the array - In the example, each integer occupies 8 bytes [float64 uses 8 bytes per integer]\n",
    "\n",
    "\n",
    "print('nbytes-',b.nbytes) # Provides The total number of bytes consumed by the array- [ nbytes =  size * itemsize ] -- 6*8 = 48\n"
   ]
  },
  {
   "cell_type": "code",
   "execution_count": null,
   "id": "367cf404",
   "metadata": {},
   "outputs": [],
   "source": []
  }
 ],
 "metadata": {
  "kernelspec": {
   "display_name": "Python 3 (ipykernel)",
   "language": "python",
   "name": "python3"
  },
  "language_info": {
   "codemirror_mode": {
    "name": "ipython",
    "version": 3
   },
   "file_extension": ".py",
   "mimetype": "text/x-python",
   "name": "python",
   "nbconvert_exporter": "python",
   "pygments_lexer": "ipython3",
   "version": "3.11.5"
  }
 },
 "nbformat": 4,
 "nbformat_minor": 5
}

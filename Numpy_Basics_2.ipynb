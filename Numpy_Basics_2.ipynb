{
 "cells": [
  {
   "cell_type": "markdown",
   "id": "aec9f226",
   "metadata": {},
   "source": [
    "  --> Accessing elements from 1D array\n  ",
    "      --> Indexing\n  ",
    "      --> Negative Indexing\n",
    "  --> Accessing elements from 2D array\n",
    "      --> Indexing\n",
    "  --> Modifying values of the array \n",
    "  --> Slicing Arrays\n",
    "      --> Positive Slicing \n",
    "      --> Negative Slicing \n",
    "  --> Accessing Rows and Columns\n",
    "  --> Important : Modification Rule\n",
    "  --> Copy()\n",
    "      --> Important : Copy() Rule \n",
    "  --> Reshaping\n",
    "  --> newaxis\n",
    "  --> Concatination of Array\n",
    "      --> concatenate\n",
    "      --> hstack\n",
    "      --> vstack\n",
    "  --> Spliting of Array\n",
    "      --> Split\n",
    "      --> vsplit\n",
    "      --> hsplit"
   ]
  },
  {
   "cell_type": "code",
   "execution_count": 4,
   "id": "03dd5a54",
   "metadata": {},
   "outputs": [],
   "source": [
    "import numpy as np"
   ]
  },
  {
   "cell_type": "code",
   "execution_count": 5,
   "id": "535673a2",
   "metadata": {},
   "outputs": [
    {
     "data": {
      "text/plain": [
       "array([1, 2, 3, 4, 5])"
      ]
     },
     "execution_count": 5,
     "metadata": {},
     "output_type": "execute_result"
    }
   ],
   "source": [
    "a = np.array([1,2,3,4,5])\n",
    "a"
   ]
  },
  {
   "cell_type": "code",
   "execution_count": 6,
   "id": "c8b01eb9",
   "metadata": {},
   "outputs": [
    {
     "name": "stdout",
     "output_type": "stream",
     "text": [
      "First Value- 1\n",
      "Second Value- 2\n",
      "Third Value- 3\n"
     ]
    }
   ],
   "source": [
    "# indexing in numpy is similar to indexing in list\n",
    "\n",
    "print('First Value-',a[0]) # this gives the output of the first value in the array \n",
    "print('Second Value-',a[1]) # this gives the output of the second value in the array \n",
    "print('Third Value-',a[2]) # this gives the output of the third value in the array "
   ]
  },
  {
   "cell_type": "code",
   "execution_count": 7,
   "id": "de707b2a",
   "metadata": {},
   "outputs": [
    {
     "name": "stdout",
     "output_type": "stream",
     "text": [
      "Last Value- 5\n",
      "Second Last Value- 4\n",
      "Third Last Value- 3\n"
     ]
    }
   ],
   "source": [
    "# You can also use negative indexing to access single elements from a list \n",
    "\n",
    "print('Last Value-',a[-1]) # this gives the output of the last value in the array \n",
    "print('Second Last Value-',a[-2]) # this gives the output of the second last value in the array \n",
    "print('Third Last Value-',a[-3]) # this gives the output of the third last value in the array "
   ]
  },
  {
   "cell_type": "code",
   "execution_count": 8,
   "id": "37f9806e",
   "metadata": {},
   "outputs": [
    {
     "data": {
      "text/plain": [
       "array([[ 1,  2,  3],\n",
       "       [ 1,  4,  9],\n",
       "       [ 1, 16, 81]])"
      ]
     },
     "execution_count": 8,
     "metadata": {},
     "output_type": "execute_result"
    }
   ],
   "source": [
    "b = np.array([[1,2,3],[1,4,9],[1,16,81]])\n",
    "b"
   ]
  },
  {
   "cell_type": "markdown",
   "id": "23ac6eec",
   "metadata": {},
   "source": [
    "#### Accessing elements from 2D array"
   ]
  },
  {
   "cell_type": "code",
   "execution_count": 9,
   "id": "f1d95491",
   "metadata": {},
   "outputs": [],
   "source": [
    "# accessing single elements from multi-dimensional array\n",
    "\n",
    "# lets take the example of the above array \n",
    "# Below is the index numbers of [row,column] for the above array\n",
    "\n",
    "#  [0,0]  [0,1]  [0,2]\n",
    "#  [1,0]  [1,1]  [1,2]\n",
    "#  [2,0]  [2,1]  [2,2]\n",
    "\n",
    "# the syntax for accessing these elements is - variable_name[row, column]\n"
   ]
  },
  {
   "cell_type": "code",
   "execution_count": 10,
   "id": "238e18ec",
   "metadata": {},
   "outputs": [
    {
     "name": "stdout",
     "output_type": "stream",
     "text": [
      "Element on this index 'b[0,0]'  1\n",
      "Element on this index 'b[1,1]'  4\n",
      "Element on this index 'b[2,2]'  81\n",
      "Element on this index 'b[2,0]'  1\n"
     ]
    }
   ],
   "source": [
    "print(\"Element on this index 'b[0,0]' \",b[0,0])\n",
    "print(\"Element on this index 'b[1,1]' \",b[1,1])\n",
    "print(\"Element on this index 'b[2,2]' \",b[2,2])\n",
    "print(\"Element on this index 'b[2,0]' \",b[2,0])"
   ]
  },
  {
   "cell_type": "code",
   "execution_count": 11,
   "id": "e9be2b2c",
   "metadata": {},
   "outputs": [
    {
     "data": {
      "text/plain": [
       "array([[ 1,  2,  3],\n",
       "       [ 1,  4,  9],\n",
       "       [ 1, 16, 81]])"
      ]
     },
     "execution_count": 11,
     "metadata": {},
     "output_type": "execute_result"
    }
   ],
   "source": [
    "b"
   ]
  },
  {
   "cell_type": "markdown",
   "id": "4026687d",
   "metadata": {},
   "source": [
    "#### Modifying values of the array "
   ]
  },
  {
   "cell_type": "code",
   "execution_count": 13,
   "id": "01ec0e87",
   "metadata": {},
   "outputs": [
    {
     "name": "stdout",
     "output_type": "stream",
     "text": [
      "Non updated array (b)-\n",
      " [[ 1  2  3]\n",
      " [ 1  4  9]\n",
      " [ 1 16 81]]\n",
      "\n",
      "\n",
      "Updated Array (b)-\n",
      " [[  1   2   5]\n",
      " [  1   4  25]\n",
      " [  1  16 125]]\n"
     ]
    }
   ],
   "source": [
    "# modifying the values in the above array \n",
    "\n",
    "print('Non updated array (b)-\\n',b)\n",
    "\n",
    "b[0,2] = 5\n",
    "b[1,2] = 25\n",
    "b[2,2] = 125\n",
    "\n",
    "print(\"\\n\")\n",
    "\n",
    "print(\"Updated Array (b)-\\n\",b)"
   ]
  },
  {
   "cell_type": "code",
   "execution_count": 14,
   "id": "9a365720",
   "metadata": {},
   "outputs": [
    {
     "data": {
      "text/plain": [
       "array([[  1,   2,   5],\n",
       "       [  1,   4,  25],\n",
       "       [  1,  16, 125]])"
      ]
     },
     "execution_count": 14,
     "metadata": {},
     "output_type": "execute_result"
    }
   ],
   "source": [
    "# If we modify the data type of the element to a float the value will be truncated , Ex - 25.912 --> 25\n",
    "\n",
    "b[1,2] = 25.912\n",
    "b"
   ]
  },
  {
   "cell_type": "markdown",
   "id": "6cdbd626",
   "metadata": {},
   "source": [
    "#### SLICING ARRAYS"
   ]
  },
  {
   "cell_type": "code",
   "execution_count": 16,
   "id": "63165618",
   "metadata": {},
   "outputs": [
    {
     "data": {
      "text/plain": [
       "array([100, 101, 102, 103, 104, 105, 106, 107, 108, 109])"
      ]
     },
     "execution_count": 16,
     "metadata": {},
     "output_type": "execute_result"
    }
   ],
   "source": [
    "ar1 = np.arange(100,110)\n",
    "ar1"
   ]
  },
  {
   "cell_type": "code",
   "execution_count": 17,
   "id": "8edf3481",
   "metadata": {},
   "outputs": [],
   "source": [
    "# The syntax for slicing is -  variable_name[Start_Index:End_Index:Step_Count]\n",
    "# If no Values are entered in the syntax, The default values are - Start_index = 0, end_index = length of the dimmension, step_count = 1\n"
   ]
  },
  {
   "cell_type": "code",
   "execution_count": 18,
   "id": "2d57b831",
   "metadata": {},
   "outputs": [
    {
     "data": {
      "text/plain": [
       "array([100, 101, 102, 103, 104])"
      ]
     },
     "execution_count": 18,
     "metadata": {},
     "output_type": "execute_result"
    }
   ],
   "source": [
    "# accessing the first 5 elements of the array\n",
    "ar1[:5]"
   ]
  },
  {
   "cell_type": "code",
   "execution_count": 19,
   "id": "811fa667",
   "metadata": {},
   "outputs": [
    {
     "data": {
      "text/plain": [
       "array([105, 106, 107, 108, 109])"
      ]
     },
     "execution_count": 19,
     "metadata": {},
     "output_type": "execute_result"
    }
   ],
   "source": [
    "# accessing the elements after the 5th value\n",
    "ar1[5:]"
   ]
  },
  {
   "cell_type": "code",
   "execution_count": 20,
   "id": "20a0b137",
   "metadata": {},
   "outputs": [
    {
     "data": {
      "text/plain": [
       "array([104, 105, 106])"
      ]
     },
     "execution_count": 20,
     "metadata": {},
     "output_type": "execute_result"
    }
   ],
   "source": [
    "# accessing the middle elements of the array \n",
    "ar1[4:7]"
   ]
  },
  {
   "cell_type": "code",
   "execution_count": 21,
   "id": "cb8b0950",
   "metadata": {},
   "outputs": [
    {
     "data": {
      "text/plain": [
       "array([100, 102, 104, 106, 108])"
      ]
     },
     "execution_count": 21,
     "metadata": {},
     "output_type": "execute_result"
    }
   ],
   "source": [
    "# accessing every 2nd element of the array \n",
    "ar1[::2]"
   ]
  },
  {
   "cell_type": "code",
   "execution_count": 22,
   "id": "2c9493b6",
   "metadata": {},
   "outputs": [
    {
     "data": {
      "text/plain": [
       "array([100, 103, 106, 109])"
      ]
     },
     "execution_count": 22,
     "metadata": {},
     "output_type": "execute_result"
    }
   ],
   "source": [
    "# accessing every 3rd element of the array \n",
    "ar1[::3]"
   ]
  },
  {
   "cell_type": "code",
   "execution_count": 23,
   "id": "69edeb6c",
   "metadata": {},
   "outputs": [
    {
     "data": {
      "text/plain": [
       "array([101, 104, 107])"
      ]
     },
     "execution_count": 23,
     "metadata": {},
     "output_type": "execute_result"
    }
   ],
   "source": [
    "# accessing every 3rd element, starting from index at 1 \n",
    "ar1[1::3]"
   ]
  },
  {
   "cell_type": "code",
   "execution_count": 25,
   "id": "409ce9a0",
   "metadata": {},
   "outputs": [
    {
     "data": {
      "text/plain": [
       "array([102, 104, 106])"
      ]
     },
     "execution_count": 25,
     "metadata": {},
     "output_type": "execute_result"
    }
   ],
   "source": [
    "# accessing every 2nd element, starting from index 2 and ending at index 7 \n",
    "ar1[2:7:2]"
   ]
  },
  {
   "cell_type": "code",
   "execution_count": 26,
   "id": "f152b11f",
   "metadata": {},
   "outputs": [
    {
     "data": {
      "text/plain": [
       "array([100, 101, 102, 103, 104, 105, 106, 107, 108, 109])"
      ]
     },
     "execution_count": 26,
     "metadata": {},
     "output_type": "execute_result"
    }
   ],
   "source": [
    "# In negative slicing , the start index and the end index are swapped \n",
    "\n",
    "ar1 "
   ]
  },
  {
   "cell_type": "code",
   "execution_count": 27,
   "id": "b8c1874c",
   "metadata": {},
   "outputs": [
    {
     "data": {
      "text/plain": [
       "array([109, 108, 107, 106, 105, 104, 103, 102, 101, 100])"
      ]
     },
     "execution_count": 27,
     "metadata": {},
     "output_type": "execute_result"
    }
   ],
   "source": [
    "ar1[::-1] # the entire array is reversed "
   ]
  },
  {
   "cell_type": "code",
   "execution_count": 29,
   "id": "a5a7d2d6",
   "metadata": {},
   "outputs": [
    {
     "data": {
      "text/plain": [
       "array([105, 104, 103, 102, 101, 100])"
      ]
     },
     "execution_count": 29,
     "metadata": {},
     "output_type": "execute_result"
    }
   ],
   "source": [
    "# reversed elements ending upto 5th value\n",
    "ar1[5::-1]"
   ]
  },
  {
   "cell_type": "code",
   "execution_count": 30,
   "id": "db536b46",
   "metadata": {},
   "outputs": [
    {
     "data": {
      "text/plain": [
       "array([109, 108, 107, 106, 105, 104, 103])"
      ]
     },
     "execution_count": 30,
     "metadata": {},
     "output_type": "execute_result"
    }
   ],
   "source": [
    "# reversed elements starting after the 2nd value\n",
    "ar1[:2:-1]"
   ]
  },
  {
   "cell_type": "code",
   "execution_count": 31,
   "id": "1fe18d36",
   "metadata": {},
   "outputs": [
    {
     "data": {
      "text/plain": [
       "array([105, 104, 103])"
      ]
     },
     "execution_count": 31,
     "metadata": {},
     "output_type": "execute_result"
    }
   ],
   "source": [
    "# reversed elements starting after the 2nd value and ending upto the 5th value\n",
    "ar1[5:2:-1]"
   ]
  },
  {
   "cell_type": "code",
   "execution_count": 32,
   "id": "e8efc7d2",
   "metadata": {},
   "outputs": [
    {
     "data": {
      "text/plain": [
       "array([106, 104, 102])"
      ]
     },
     "execution_count": 32,
     "metadata": {},
     "output_type": "execute_result"
    }
   ],
   "source": [
    "# reversed elements starting after 1st value and ending upto the 6th value with a step count of 2\n",
    "ar1[6:1:-2]"
   ]
  },
  {
   "cell_type": "code",
   "execution_count": 35,
   "id": "880d484d",
   "metadata": {},
   "outputs": [
    {
     "data": {
      "text/plain": [
       "array([[  2,   3,   5],\n",
       "       [  4,   9,  25],\n",
       "       [ 16,  81, 125]])"
      ]
     },
     "execution_count": 35,
     "metadata": {},
     "output_type": "execute_result"
    }
   ],
   "source": [
    "ar2 = np.array([[2,3,5],[4,9,25],[16,81,125]])\n",
    "ar2\n"
   ]
  },
  {
   "cell_type": "code",
   "execution_count": 37,
   "id": "3b05112e",
   "metadata": {},
   "outputs": [],
   "source": [
    "# accessing multi dimensional array \n",
    "               #                          Row                                    Column\n",
    "               # variable_name[start_index :end_index:step_count,  start_index:end_index:step_count]"
   ]
  },
  {
   "cell_type": "code",
   "execution_count": 39,
   "id": "6d348b5d",
   "metadata": {},
   "outputs": [
    {
     "data": {
      "text/plain": [
       "array([[2, 3],\n",
       "       [4, 9]])"
      ]
     },
     "execution_count": 39,
     "metadata": {},
     "output_type": "execute_result"
    }
   ],
   "source": [
    "ar2[:2,:2] # accessing 2 rows and 2 columns "
   ]
  },
  {
   "cell_type": "code",
   "execution_count": 41,
   "id": "9c05a5f6",
   "metadata": {},
   "outputs": [
    {
     "data": {
      "text/plain": [
       "array([[  1,   2,   3,   4,   5],\n",
       "       [ 11,  22,  33,  44,  55],\n",
       "       [ 21,  32,  43,  54,  65],\n",
       "       [ 70,  80,  90, 100, 110],\n",
       "       [200, 300, 400, 500, 600]])"
      ]
     },
     "execution_count": 41,
     "metadata": {},
     "output_type": "execute_result"
    }
   ],
   "source": [
    "ar3 = np.array([[1,2,3,4,5],[11,22,33,44,55],[21,32,43,54,65],[70,80,90,100,110],[200,300,400,500,600]])\n",
    "ar3"
   ]
  },
  {
   "cell_type": "code",
   "execution_count": 42,
   "id": "a47333cc",
   "metadata": {},
   "outputs": [
    {
     "data": {
      "text/plain": [
       "array([[ 1,  2,  3,  4],\n",
       "       [11, 22, 33, 44],\n",
       "       [21, 32, 43, 54]])"
      ]
     },
     "execution_count": 42,
     "metadata": {},
     "output_type": "execute_result"
    }
   ],
   "source": [
    "# accessing 3 rows and 4 columns\n",
    "ar3[:3,:4] "
   ]
  },
  {
   "cell_type": "code",
   "execution_count": 43,
   "id": "d3f05784",
   "metadata": {},
   "outputs": [
    {
     "data": {
      "text/plain": [
       "array([[  1,   3,   5],\n",
       "       [ 11,  33,  55],\n",
       "       [ 21,  43,  65],\n",
       "       [ 70,  90, 110],\n",
       "       [200, 400, 600]])"
      ]
     },
     "execution_count": 43,
     "metadata": {},
     "output_type": "execute_result"
    }
   ],
   "source": [
    "# accessing all rows and alternate columns\n",
    "ar3[:,::2]"
   ]
  },
  {
   "cell_type": "code",
   "execution_count": 44,
   "id": "4853069c",
   "metadata": {},
   "outputs": [
    {
     "data": {
      "text/plain": [
       "array([[  1,   2,   3,   4,   5],\n",
       "       [ 21,  32,  43,  54,  65],\n",
       "       [200, 300, 400, 500, 600]])"
      ]
     },
     "execution_count": 44,
     "metadata": {},
     "output_type": "execute_result"
    }
   ],
   "source": [
    "# accessing alternate rows and all columns\n",
    "ar3[::2,:]"
   ]
  },
  {
   "cell_type": "code",
   "execution_count": 45,
   "id": "ad6dadd1",
   "metadata": {},
   "outputs": [
    {
     "data": {
      "text/plain": [
       "array([[600, 500, 400, 300, 200],\n",
       "       [110, 100,  90,  80,  70],\n",
       "       [ 65,  54,  43,  32,  21],\n",
       "       [ 55,  44,  33,  22,  11],\n",
       "       [  5,   4,   3,   2,   1]])"
      ]
     },
     "execution_count": 45,
     "metadata": {},
     "output_type": "execute_result"
    }
   ],
   "source": [
    "# accessing reversed rows and columns\n",
    "ar3[::-1,::-1]"
   ]
  },
  {
   "cell_type": "code",
   "execution_count": null,
   "id": "d8c5b8f8",
   "metadata": {},
   "outputs": [],
   "source": [
    "# Negative Indexing for the above array \n",
    "#     4      3      2      1       0\n",
    "#  [ 600    500    400    300    200]   4\n",
    "#  [ 110    100    90     80     70]    3\n",
    "#  [ 65     54     43     32     21]    2\n",
    "#  [ 55     44     33     22     11]    1\n",
    "#  [ 5      4      3      2       1]    0"
   ]
  },
  {
   "cell_type": "code",
   "execution_count": 65,
   "id": "25a1091d",
   "metadata": {},
   "outputs": [
    {
     "data": {
      "text/plain": [
       "array([[100,  90],\n",
       "       [ 54,  43]])"
      ]
     },
     "execution_count": 65,
     "metadata": {},
     "output_type": "execute_result"
    }
   ],
   "source": [
    "# accessing the values \n",
    "# [100, 90]\n",
    "# [54, 43]\n",
    "# using reversed slicing \n",
    "\n",
    "ar3[3:1:-1, 3:1:-1]"
   ]
  },
  {
   "cell_type": "code",
   "execution_count": 66,
   "id": "29010818",
   "metadata": {},
   "outputs": [
    {
     "data": {
      "text/plain": [
       "array([[500, 400, 300],\n",
       "       [100,  90,  80]])"
      ]
     },
     "execution_count": 66,
     "metadata": {},
     "output_type": "execute_result"
    }
   ],
   "source": [
    "# accessing the values \n",
    "# [500, 400, 300]\n",
    "# [100, 90, 80]\n",
    "# using reversed slicing\n",
    "\n",
    "ar3[:2:-1,3:0:-1]"
   ]
  },
  {
   "cell_type": "markdown",
   "id": "0b9fb7c9",
   "metadata": {},
   "source": [
    "#### Accessing Rows and Columns"
   ]
  },
  {
   "cell_type": "code",
   "execution_count": null,
   "id": "46906df7",
   "metadata": {},
   "outputs": [],
   "source": [
    "# Accessing Rows and Columns"
   ]
  },
  {
   "cell_type": "code",
   "execution_count": 67,
   "id": "881bbf6a",
   "metadata": {},
   "outputs": [
    {
     "data": {
      "text/plain": [
       "array([  1,  11,  21,  70, 200])"
      ]
     },
     "execution_count": 67,
     "metadata": {},
     "output_type": "execute_result"
    }
   ],
   "source": [
    "# Syntax -- variable_name[row,column]\n",
    "ar3[:,0] # gives the first column of the array -- ':' means all rows and '0' states the first column"
   ]
  },
  {
   "cell_type": "code",
   "execution_count": 69,
   "id": "60d34f98",
   "metadata": {},
   "outputs": [
    {
     "data": {
      "text/plain": [
       "array([1, 2, 3, 4, 5])"
      ]
     },
     "execution_count": 69,
     "metadata": {},
     "output_type": "execute_result"
    }
   ],
   "source": [
    "ar3[0,:] # gives the first row of the array -- '0' means all the rows and ':' means all the columns"
   ]
  },
  {
   "cell_type": "code",
   "execution_count": 70,
   "id": "0218e9eb",
   "metadata": {},
   "outputs": [
    {
     "data": {
      "text/plain": [
       "array([1, 2, 3, 4, 5])"
      ]
     },
     "execution_count": 70,
     "metadata": {},
     "output_type": "execute_result"
    }
   ],
   "source": [
    "ar3[0] # if you omit the [row,column] syntax then by default all rows and columns are printed of the specified index"
   ]
  },
  {
   "cell_type": "code",
   "execution_count": 71,
   "id": "80232354",
   "metadata": {},
   "outputs": [
    {
     "data": {
      "text/plain": [
       "array([21, 32, 43, 54, 65])"
      ]
     },
     "execution_count": 71,
     "metadata": {},
     "output_type": "execute_result"
    }
   ],
   "source": [
    "ar3[2] # if you omit the [row,column] syntax then by default all rows and columns are printed of the specified index"
   ]
  },
  {
   "cell_type": "code",
   "execution_count": 72,
   "id": "74752b25",
   "metadata": {},
   "outputs": [
    {
     "data": {
      "text/plain": [
       "array([[  2,   3,   5],\n",
       "       [  4,   9,  25],\n",
       "       [ 16,  81, 125]])"
      ]
     },
     "execution_count": 72,
     "metadata": {},
     "output_type": "execute_result"
    }
   ],
   "source": [
    "ar2"
   ]
  },
  {
   "cell_type": "markdown",
   "id": "3d893463",
   "metadata": {},
   "source": [
    "#### IMP Modification Rule"
   ]
  },
  {
   "cell_type": "code",
   "execution_count": null,
   "id": "cce5357f",
   "metadata": {},
   "outputs": [],
   "source": [
    "# In the below example we can see that after making a modification in the substring the original string is also being changed\n",
    "# Reason for this :\n",
    "# Any modifications made to the subarray will also reflect in the main array, because they both point to the same memory location"
   ]
  },
  {
   "cell_type": "code",
   "execution_count": 74,
   "id": "9352d0bb",
   "metadata": {},
   "outputs": [
    {
     "data": {
      "text/plain": [
       "array([[2, 3],\n",
       "       [4, 9]])"
      ]
     },
     "execution_count": 74,
     "metadata": {},
     "output_type": "execute_result"
    }
   ],
   "source": [
    "ar2_sub = ar2[:2,:2]\n",
    "ar2_sub"
   ]
  },
  {
   "cell_type": "code",
   "execution_count": 76,
   "id": "c8e9052f",
   "metadata": {},
   "outputs": [
    {
     "data": {
      "text/plain": [
       "array([[999,   3],\n",
       "       [  4,   9]])"
      ]
     },
     "execution_count": 76,
     "metadata": {},
     "output_type": "execute_result"
    }
   ],
   "source": [
    "ar2_sub[0,0]= 999\n",
    "ar2_sub"
   ]
  },
  {
   "cell_type": "code",
   "execution_count": 77,
   "id": "ef5ce2e0",
   "metadata": {},
   "outputs": [
    {
     "data": {
      "text/plain": [
       "array([[999,   3,   5],\n",
       "       [  4,   9,  25],\n",
       "       [ 16,  81, 125]])"
      ]
     },
     "execution_count": 77,
     "metadata": {},
     "output_type": "execute_result"
    }
   ],
   "source": [
    "ar2"
   ]
  },
  {
   "cell_type": "markdown",
   "id": "df597cd0",
   "metadata": {},
   "source": [
    "#### Copy()"
   ]
  },
  {
   "cell_type": "code",
   "execution_count": 80,
   "id": "cceae005",
   "metadata": {},
   "outputs": [
    {
     "name": "stdout",
     "output_type": "stream",
     "text": [
      "[[  2   3   5]\n",
      " [  4   9  25]\n",
      " [ 16  81 125]] \n",
      "\n",
      "[[2 3]\n",
      " [4 9]]\n"
     ]
    }
   ],
   "source": [
    "# Creating Copies of arrays\n",
    "# This method prevents the above behaviour \n",
    "\n",
    "ar2[0,0] = 2\n",
    "print(ar2,'\\n')\n",
    "print(ar2_sub)"
   ]
  },
  {
   "cell_type": "code",
   "execution_count": 82,
   "id": "c7863b78",
   "metadata": {},
   "outputs": [
    {
     "data": {
      "text/plain": [
       "array([[2, 3],\n",
       "       [4, 9]])"
      ]
     },
     "execution_count": 82,
     "metadata": {},
     "output_type": "execute_result"
    }
   ],
   "source": [
    "ar2_sub = ar2[:2,:2].copy() # Here we are extracting a subarray from ar2 and creating a copy of it \n",
    "ar2_sub"
   ]
  },
  {
   "cell_type": "code",
   "execution_count": 83,
   "id": "84187766",
   "metadata": {},
   "outputs": [
    {
     "name": "stdout",
     "output_type": "stream",
     "text": [
      "[[  2   3   5]\n",
      " [  4   9  25]\n",
      " [ 16  81 125]] \n",
      "\n",
      "[[99  3]\n",
      " [ 4  9]]\n"
     ]
    }
   ],
   "source": [
    "# Hence it is clear \n",
    "# Any modifications made to the subarray will not reflect in the main array,\n",
    "# because 'ar2_sub' is a copy and resides in a different memory location\n",
    "\n",
    "ar2_sub[0,0] = 99\n",
    "print(ar2,'\\n')\n",
    "print(ar2_sub)"
   ]
  },
  {
   "cell_type": "markdown",
   "id": "38b9691c",
   "metadata": {},
   "source": [
    "#### Reshaping"
   ]
  },
  {
   "cell_type": "code",
   "execution_count": 84,
   "id": "a81e75eb",
   "metadata": {},
   "outputs": [
    {
     "data": {
      "text/plain": [
       "array([[1, 2, 3],\n",
       "       [4, 5, 6],\n",
       "       [7, 8, 9]])"
      ]
     },
     "execution_count": 84,
     "metadata": {},
     "output_type": "execute_result"
    }
   ],
   "source": [
    "a = np.arange(1,10).reshape((3,3)) # reshape() is used for reshaping the array \n",
    "a                                  # Note : the size of the initial array must match the size of the reshaped array"
   ]
  },
  {
   "cell_type": "code",
   "execution_count": 94,
   "id": "6c4bbd53",
   "metadata": {},
   "outputs": [
    {
     "ename": "ValueError",
     "evalue": "cannot reshape array of size 5 into shape (2,2)",
     "output_type": "error",
     "traceback": [
      "\u001b[1;31m---------------------------------------------------------------------------\u001b[0m",
      "\u001b[1;31mValueError\u001b[0m                                Traceback (most recent call last)",
      "Cell \u001b[1;32mIn[94], line 1\u001b[0m\n\u001b[1;32m----> 1\u001b[0m a \u001b[38;5;241m=\u001b[39m np\u001b[38;5;241m.\u001b[39marange(\u001b[38;5;241m1\u001b[39m,\u001b[38;5;241m6\u001b[39m)\u001b[38;5;241m.\u001b[39mreshape((\u001b[38;5;241m2\u001b[39m,\u001b[38;5;241m2\u001b[39m)) \u001b[38;5;66;03m# This error has occured due the following reason \u001b[39;00m\n\u001b[0;32m      2\u001b[0m a\n",
      "\u001b[1;31mValueError\u001b[0m: cannot reshape array of size 5 into shape (2,2)"
     ]
    }
   ],
   "source": [
    "a = np.arange(1,6).reshape((2,2)) # This error has occured due the following reason \n",
    "a                                 # The elements in the array are - 1, 2, 3, 4, 5\n",
    "                                  # The shape provided is (2,2) - which means it has 2 rows and 2 columns\n",
    "                                  # So the maping 5 elements in 3x3 matrix is not possible \n",
    "                                  # 1  2  3\n",
    "                                  # 4  5  -      [this causes the error]"
   ]
  },
  {
   "cell_type": "code",
   "execution_count": 92,
   "id": "46fc6e21",
   "metadata": {},
   "outputs": [
    {
     "data": {
      "text/plain": [
       "array([[1, 2],\n",
       "       [3, 4]])"
      ]
     },
     "execution_count": 92,
     "metadata": {},
     "output_type": "execute_result"
    }
   ],
   "source": [
    "# solving the above error\n",
    "\n",
    "a = np.arange(1,5).reshape((2,2)) # The elements in the array are - 1, 2, 3, 4\n",
    "a                                 # 1  2  \n",
    "                                  # 3  4"
   ]
  },
  {
   "cell_type": "markdown",
   "id": "d56f0c87",
   "metadata": {},
   "source": [
    "#### newaxis"
   ]
  },
  {
   "cell_type": "code",
   "execution_count": 95,
   "id": "1b5cc9a0",
   "metadata": {},
   "outputs": [],
   "source": [
    "# The syntax for creating a row vector - [np.newaxis,:]\n",
    "# The syntax for creating a column vector - [:,np.newaxis]"
   ]
  },
  {
   "cell_type": "code",
   "execution_count": 96,
   "id": "a89a23c5",
   "metadata": {},
   "outputs": [
    {
     "data": {
      "text/plain": [
       "array([1, 2, 3, 4])"
      ]
     },
     "execution_count": 96,
     "metadata": {},
     "output_type": "execute_result"
    }
   ],
   "source": [
    "ar = np.array([1,2,3,4])\n",
    "ar"
   ]
  },
  {
   "cell_type": "code",
   "execution_count": 100,
   "id": "52cabbb6",
   "metadata": {},
   "outputs": [
    {
     "name": "stdout",
     "output_type": "stream",
     "text": [
      "Array -  [1 2 3 4]  Shape- (4,)\n",
      "Row vector  [[1 2 3 4]]  Shape (1, 4)\n"
     ]
    }
   ],
   "source": [
    "# creating a row vector using newaxis\n",
    "\n",
    "row_vector = ar[np.newaxis,:]\n",
    "\n",
    "print(\"Array - \",ar,' Shape-',ar.shape) # this give the shape of the ar array which is (4,) 4 is the number of elements \n",
    "                                         # In 1D, the array does not have rows and columns, its just single line of elements\n",
    "    \n",
    "print(\"Row vector \",row_vector,' Shape',row_vector.shape)# this gives the shape of the row_vector which is (1,4)\n",
    "                                                         # The question arises how are we getting the values (1,4)\n",
    "                                                         # Here by using the newaxis, we are adding a new axis at the row level in other words converting it to a 2D array which has 1 row and 4 columns\n",
    "                                                        \n",
    "                                                         #     column1  column2  column3   column4\n",
    "                                                         # row    1         2        3        4\n",
    "                    \n",
    "                                                        # you can even see the output of the arrays and identify which is 1D and which is a 2D"
   ]
  },
  {
   "cell_type": "code",
   "execution_count": 101,
   "id": "2ac83764",
   "metadata": {},
   "outputs": [
    {
     "data": {
      "text/plain": [
       "array([1, 2, 3, 4])"
      ]
     },
     "execution_count": 101,
     "metadata": {},
     "output_type": "execute_result"
    }
   ],
   "source": [
    "arr = np.array([1,2,3,4])\n",
    "arr"
   ]
  },
  {
   "cell_type": "code",
   "execution_count": 104,
   "id": "95361fc4",
   "metadata": {},
   "outputs": [
    {
     "name": "stdout",
     "output_type": "stream",
     "text": [
      "Array- [1 2 3 4] shape- (4,)\n",
      "Column vector- [[1]\n",
      " [2]\n",
      " [3]\n",
      " [4]] shape- (4, 1)\n"
     ]
    }
   ],
   "source": [
    "# creating a column vector using newaxis \n",
    "\n",
    "column_vector = arr[:,np.newaxis]\n",
    "\n",
    "\n",
    "print(\"Array-\",arr,'shape-',arr.shape) # this give the shape of the arr array which is (4,) 4 is the number of elements \n",
    "                                       # In 1D, the array does not have rows and columns, its just single line of elements\n",
    "    \n",
    "print(\"Column vector-\",column_vector,'shape-',column_vector.shape) # this gives the shape of the column_vector which is (4,1)\n",
    "                                                         # The question arises how are we getting the values (4,1)\n",
    "                                                         # Here by using the newaxis, we are adding a new axis at the column level in other words converting it to a 2D array which has 4 rows and 1 column\n",
    "                                                        \n",
    "                                                         #     column  \n",
    "                                                         # row1    1         \n",
    "                                                         # row2    2         \n",
    "                                                         # row3    3         \n",
    "                                                         # row4    4         \n",
    "                                                        # you can even see the output of the arrays and identify which is 1D and which is a 2D"
   ]
  },
  {
   "cell_type": "markdown",
   "id": "34514a78",
   "metadata": {},
   "source": [
    "#### Concatination of Array"
   ]
  },
  {
   "cell_type": "code",
   "execution_count": 109,
   "id": "de5c9f22",
   "metadata": {},
   "outputs": [
    {
     "name": "stdout",
     "output_type": "stream",
     "text": [
      "[1 2 3 4] \n",
      " [4 5 6 7 8]\n"
     ]
    }
   ],
   "source": [
    "import numpy as np\n",
    "ar= np.array([1,2,3,4])\n",
    "br = np.array([4,5,6,7,8])\n",
    "print(ar,'\\n',br)\n"
   ]
  },
  {
   "cell_type": "code",
   "execution_count": 111,
   "id": "3e91ca06",
   "metadata": {},
   "outputs": [
    {
     "data": {
      "text/plain": [
       "array([1, 2, 3, 4, 4, 5, 6, 7, 8])"
      ]
     },
     "execution_count": 111,
     "metadata": {},
     "output_type": "execute_result"
    }
   ],
   "source": [
    "# concating two 1D array\n",
    "np.concatenate([ar,br])"
   ]
  },
  {
   "cell_type": "code",
   "execution_count": 112,
   "id": "9c250697",
   "metadata": {},
   "outputs": [
    {
     "name": "stdout",
     "output_type": "stream",
     "text": [
      "Concat of 3- 1D arrays- [1 2 3 4 4 5 6 7 8 1 2 3 4 5 6 7 8 9]\n"
     ]
    }
   ],
   "source": [
    "# concating three 1D array \n",
    "cr =np.arange(1,10)\n",
    "\n",
    "d = np.concatenate([ar,br,cr])\n",
    "print(\"Concat of 3- 1D arrays-\",d)"
   ]
  },
  {
   "cell_type": "code",
   "execution_count": 115,
   "id": "d8d9d03c",
   "metadata": {},
   "outputs": [
    {
     "name": "stdout",
     "output_type": "stream",
     "text": [
      "[[1 2 3]\n",
      " [4 5 6]] \n",
      "\n",
      " [[7 8 9]\n",
      " [0 1 2]]\n"
     ]
    }
   ],
   "source": [
    "arr = np.array([[1,2,3],[4,5,6]])\n",
    "brr = np.array([[7,8,9],[0,1,2]])\n",
    "print(arr,'\\n\\n',brr)"
   ]
  },
  {
   "cell_type": "code",
   "execution_count": 116,
   "id": "fe869c69",
   "metadata": {},
   "outputs": [
    {
     "data": {
      "text/plain": [
       "array([[1, 2, 3],\n",
       "       [4, 5, 6],\n",
       "       [7, 8, 9],\n",
       "       [0, 1, 2]])"
      ]
     },
     "execution_count": 116,
     "metadata": {},
     "output_type": "execute_result"
    }
   ],
   "source": [
    "# concating two 2D arrays\n",
    "\n",
    "np.concatenate([arr,brr])"
   ]
  },
  {
   "cell_type": "code",
   "execution_count": 118,
   "id": "94122415",
   "metadata": {},
   "outputs": [
    {
     "name": "stdout",
     "output_type": "stream",
     "text": [
      "Concated array-\n",
      " [[  1   2   3]\n",
      " [  4   5   6]\n",
      " [  7   8   9]\n",
      " [  0   1   2]\n",
      " [ 11  22  33]\n",
      " [100 200 300]]\n"
     ]
    }
   ],
   "source": [
    "# concating three 2D arrays\n",
    "\n",
    "crr = np.array([[11,22,33],[100,200,300]])\n",
    "d = np.concatenate([arr,brr,crr])\n",
    "\n",
    "print(\"Concated array-\\n\",d)"
   ]
  },
  {
   "cell_type": "code",
   "execution_count": 119,
   "id": "4ea81898",
   "metadata": {},
   "outputs": [],
   "source": [
    "# If you are using two arrays of different dimensions you can use the np.vstack[vertical stack] and np.hstack [horizontal stack]"
   ]
  },
  {
   "cell_type": "code",
   "execution_count": 123,
   "id": "e3307b06",
   "metadata": {},
   "outputs": [
    {
     "data": {
      "text/plain": [
       "array([[3, 4, 5],\n",
       "       [9, 8, 7],\n",
       "       [1, 2, 3]])"
      ]
     },
     "execution_count": 123,
     "metadata": {},
     "output_type": "execute_result"
    }
   ],
   "source": [
    "x = np.array([1,2,3])\n",
    "y = np.array([[3,4,5],[9,8,7]])\n",
    "\n",
    "np.vstack([y,x])   # np.vstack stacks arrays in row-wise stacking\n",
    "                   # To stack arrays vertically-\n",
    "                   # All arrays must have the same number of columns   "
   ]
  },
  {
   "cell_type": "code",
   "execution_count": 128,
   "id": "104e5d9e",
   "metadata": {},
   "outputs": [
    {
     "data": {
      "text/plain": [
       "array([[ 1,  2,  3, 22, 33, 44]])"
      ]
     },
     "execution_count": 128,
     "metadata": {},
     "output_type": "execute_result"
    }
   ],
   "source": [
    "\n",
    "a = np.array([1,2,3])      # Shape (3,)\n",
    "\n",
    "a = a[np.newaxis,:]        # Shape(1,3)\n",
    "\n",
    "b = np.array([[22,33,44]]) # Shape(1,3)\n",
    "\n",
    "np.hstack([a,b])             # np.hstack - stacks the arrays in column-wise stacking\n",
    "                             # The arrays must have the same number of rows (same height) to align properly\n",
    "    \n",
    "                             # The reason why I used row_vectoring is to make the rows of both the arrays equal for successful execution of the code \n",
    "                             # If the rows are not equal then a ValueError is raised "
   ]
  },
  {
   "cell_type": "code",
   "execution_count": 136,
   "id": "e79ac9ce",
   "metadata": {},
   "outputs": [
    {
     "data": {
      "text/plain": [
       "array([[ 1,  1, 23, 44, 54],\n",
       "       [ 2,  0,  9,  8,  7],\n",
       "       [ 3,  4,  3,  2,  1]])"
      ]
     },
     "execution_count": 136,
     "metadata": {},
     "output_type": "execute_result"
    }
   ],
   "source": [
    "a1 = np.array([1,2,3])                           # Shape(3,)\n",
    "a1 = a1[:,np.newaxis]                            # Shape(3,1)\n",
    "b = np.array([[1,23,44,54],[0,9,8,7],[4,3,2,1]]) # Shape(3,4)\n",
    "\n",
    "np.hstack([a1,b])"
   ]
  },
  {
   "cell_type": "markdown",
   "id": "f9847692",
   "metadata": {},
   "source": [
    "#### Splitting of Arrays "
   ]
  },
  {
   "cell_type": "code",
   "execution_count": 140,
   "id": "f52d2b04",
   "metadata": {},
   "outputs": [
    {
     "data": {
      "text/plain": [
       "[array([1, 2, 5]), array([6, 8, 9])]"
      ]
     },
     "execution_count": 140,
     "metadata": {},
     "output_type": "execute_result"
    }
   ],
   "source": [
    "arr1 = np.array([1,2,5,6,8,9])\n",
    "np.split(arr1,2)  # Here the split function divides the array into two equal parts and prints the output\n",
    "                  # length of the array arr = 6 ,spliting it into 2 equal halves gives us 3 elements in each row \n",
    "   \n",
    "\n",
    " # Important Note - \n",
    "    # if an array has 3 elements and we want to split it into 2 equal halves then this code will raise an error\n",
    "    # The total number of elements (3) must be divisible by the number of splits (2)\n",
    "    # Example: \n",
    "    # arr = np.array([1,2,3])\n",
    "    # np.split(arr,2)"
   ]
  },
  {
   "cell_type": "code",
   "execution_count": 144,
   "id": "75f53741",
   "metadata": {},
   "outputs": [
    {
     "data": {
      "text/plain": [
       "array([1, 2, 5, 6, 8, 9])"
      ]
     },
     "execution_count": 144,
     "metadata": {},
     "output_type": "execute_result"
    }
   ],
   "source": [
    "arr1"
   ]
  },
  {
   "cell_type": "code",
   "execution_count": 146,
   "id": "be2b20da",
   "metadata": {},
   "outputs": [
    {
     "data": {
      "text/plain": [
       "array([0, 1, 2, 3, 4, 5, 6, 7, 8, 9])"
      ]
     },
     "execution_count": 146,
     "metadata": {},
     "output_type": "execute_result"
    }
   ],
   "source": [
    "ar = np.arange(10)\n",
    "ar"
   ]
  },
  {
   "cell_type": "code",
   "execution_count": 149,
   "id": "55c76878",
   "metadata": {},
   "outputs": [
    {
     "name": "stdout",
     "output_type": "stream",
     "text": [
      "Array is split into two equal halves- [array([0, 1, 2, 3, 4]), array([5, 6, 7, 8, 9])]\n",
      "Array is split into 3 havles-  [array([0, 1, 2, 3]), array([4, 5, 6]), array([7, 8, 9])]\n"
     ]
    }
   ],
   "source": [
    "\n",
    "print(\"Array is split into two equal halves-\",np.array_split(ar,2))\n",
    "print(\"Array is split into 3 havles- \",np.array_split(ar,3))\n",
    "\n",
    "# Final Note -\n",
    "\n",
    "# np.split() : strictly requires the array size to be evenly divisible by the number of splits specified. \n",
    "# If it isn't, it raises a ValueError\n",
    "\n",
    "# np.array_split() is more flexible. \n",
    "# It allows splitting the array into unequal parts when the array size isn't evenly divisible by the number of splits"
   ]
  },
  {
   "cell_type": "code",
   "execution_count": 167,
   "id": "ffff076c",
   "metadata": {},
   "outputs": [
    {
     "data": {
      "text/plain": [
       "[array([[1, 2],\n",
       "        [6, 7]]),\n",
       " array([[3, 4],\n",
       "        [8, 9]]),\n",
       " array([[5, 6],\n",
       "        [0, 1]])]"
      ]
     },
     "execution_count": 167,
     "metadata": {},
     "output_type": "execute_result"
    }
   ],
   "source": [
    "# hsplit -- Horizontal split \n",
    "# this works on arrays with at least 2D\n",
    "# Splits the array along its columns\n",
    "\n",
    "ar = np.array([[1,2,3,4,5,6],[6,7,8,9,0,1]])      # 1  2  3  4  5  6\n",
    "                                                  # 6  7  8  9  0  1\n",
    "    \n",
    "                                             # horizontal split is done on columns. There are 6 columns and dividing them by (3) splits provides total 3 groups of arrays\n",
    "                                             # ([[1,2],[6,7]])     ([[3,4],[8,9]])    ([[5,6],[0,1]])\n",
    "np.hsplit(ar,3)"
   ]
  },
  {
   "cell_type": "code",
   "execution_count": 184,
   "id": "c1365943",
   "metadata": {},
   "outputs": [
    {
     "data": {
      "text/plain": [
       "array([[4, 4, 4, 4],\n",
       "       [4, 4, 4, 4],\n",
       "       [4, 4, 4, 4],\n",
       "       [4, 4, 4, 4]])"
      ]
     },
     "execution_count": 184,
     "metadata": {},
     "output_type": "execute_result"
    }
   ],
   "source": [
    "# np.vsplit -- Vertical Split\n",
    "# Splits the array along its row\n",
    "# Works only on arrays with at least 2 dimensions\n",
    "\n",
    "arr1 = np.full((4,4),4)\n",
    "arr1"
   ]
  },
  {
   "cell_type": "code",
   "execution_count": 186,
   "id": "6259187d",
   "metadata": {},
   "outputs": [
    {
     "data": {
      "text/plain": [
       "[array([[4, 4, 4, 4],\n",
       "        [4, 4, 4, 4]]),\n",
       " array([[4, 4, 4, 4],\n",
       "        [4, 4, 4, 4]])]"
      ]
     },
     "execution_count": 186,
     "metadata": {},
     "output_type": "execute_result"
    }
   ],
   "source": [
    "np.vsplit(arr1,2)                                 # 4  4  4  4  4  4\n",
    "                                                  # 4  4  4  4  4  4\n",
    "                                                  # 4  4  4  4  4  4\n",
    "                                                  # 4  4  4  4  4  4\n",
    "    \n",
    "                                             # vertical split is done on rows. There are 4 columns and dividing them by (2) splits provides total 2 groups of arrays\n",
    "                                             # ([[4,4,4,4],[4,4,4,4]])    ([[4,4,4,4],[4,4,4,4]])"
   ]
  },
  {
   "cell_type": "code",
   "execution_count": null,
   "id": "88e4e731",
   "metadata": {},
   "outputs": [],
   "source": []
  }
 ],
 "metadata": {
  "kernelspec": {
   "display_name": "Python 3 (ipykernel)",
   "language": "python",
   "name": "python3"
  },
  "language_info": {
   "codemirror_mode": {
    "name": "ipython",
    "version": 3
   },
   "file_extension": ".py",
   "mimetype": "text/x-python",
   "name": "python",
   "nbconvert_exporter": "python",
   "pygments_lexer": "ipython3",
   "version": "3.11.5"
  }
 },
 "nbformat": 4,
 "nbformat_minor": 5
}

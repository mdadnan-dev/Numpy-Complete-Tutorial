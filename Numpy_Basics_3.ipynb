{
 "cells": [
  {
   "cell_type": "markdown",
   "id": "b63dd9b7",
   "metadata": {},
   "source": [
    " ## Numpy_Basics_3   \n",
    "--> Universal Functions      \n",
    "--> Arthematic Opreations     \n",
    "    >> Another way of using Arthematic operators    \n",
    "--> Absolute Value Functions      \n",
    "--> Trignometric Functions    \n",
    "--> Inverse Trignometric Functions    \n",
    "--> Exponential Functions  \n",
    "--> Logarithm Functions \n",
    "--> Specialized versions  \n",
    "--> Specifying Outputs [A method of saving memory]  \n",
    "--> Aggregates  \n",
    "    >> Reduce  \n",
    "    >> Accumulate  \n",
    "    >> Outer  \n",
    "--> Summing the values in array  \n",
    "--> Min Max Functions  \n",
    "--> Axis  "
   ]
  },
  {
   "cell_type": "code",
   "execution_count": null,
   "id": "e5c53dcf",
   "metadata": {},
   "outputs": [],
   "source": [
    "import numpy as np"
   ]
  },
  {
   "cell_type": "markdown",
   "id": "333d6387",
   "metadata": {},
   "source": [
    "### Universal Functions"
   ]
  },
  {
   "cell_type": "code",
   "execution_count": 2,
   "id": "08e71b48",
   "metadata": {},
   "outputs": [
    {
     "name": "stdout",
     "output_type": "stream",
     "text": [
      "[0 1 2 3 4] \n",
      "\n",
      " [1 2 3 4 5]\n"
     ]
    }
   ],
   "source": [
    "# Universal Functions -- Ufuncs\n",
    "# They are a core feature that allows element-wise operations to be performed on arrays in a very efficient way\n",
    "\n",
    "a = np.arange(5)\n",
    "b = np.arange(1,6)\n",
    "print(a,'\\n\\n',b)"
   ]
  },
  {
   "cell_type": "code",
   "execution_count": 3,
   "id": "c2eee865",
   "metadata": {},
   "outputs": [
    {
     "data": {
      "text/plain": [
       "array([0.        , 0.5       , 0.66666667, 0.75      , 0.8       ])"
      ]
     },
     "execution_count": 3,
     "metadata": {},
     "output_type": "execute_result"
    }
   ],
   "source": [
    "a/b   # 0/1 = 0 ,  1/2 = 0.5 ,  2/3 = 0.66 ,  3/4 = 0.75 ,  4/5 = 0.8"
   ]
  },
  {
   "cell_type": "code",
   "execution_count": 4,
   "id": "4b300163",
   "metadata": {},
   "outputs": [
    {
     "data": {
      "text/plain": [
       "array([[0, 1],\n",
       "       [2, 3],\n",
       "       [4, 5],\n",
       "       [6, 7]])"
      ]
     },
     "execution_count": 4,
     "metadata": {},
     "output_type": "execute_result"
    }
   ],
   "source": [
    "x = np.arange(8).reshape((4,2))\n",
    "x"
   ]
  },
  {
   "cell_type": "code",
   "execution_count": 5,
   "id": "c160d722",
   "metadata": {},
   "outputs": [
    {
     "data": {
      "text/plain": [
       "array([[ 0,  1],\n",
       "       [ 4,  9],\n",
       "       [16, 25],\n",
       "       [36, 49]])"
      ]
     },
     "execution_count": 5,
     "metadata": {},
     "output_type": "execute_result"
    }
   ],
   "source": [
    "x ** 2  # This gives the square of each number present in the array \n",
    "        # 0 ** 2 = 0     1 ** 2 = 1\n",
    "        # 2 ** 2 = 4     3 ** 2 = 9\n",
    "        # 4 ** 2 = 16    5 ** 2 = 25\n",
    "        # 6 ** 2 = 36    7 ** 2 = 49\n",
    "        "
   ]
  },
  {
   "cell_type": "markdown",
   "id": "528cb2ec",
   "metadata": {},
   "source": [
    "### Arthematic opreations "
   ]
  },
  {
   "cell_type": "code",
   "execution_count": 7,
   "id": "b2baa82d",
   "metadata": {},
   "outputs": [
    {
     "name": "stdout",
     "output_type": "stream",
     "text": [
      "Array - [0 1 2 3 4 5 6 7 8 9] \n",
      "\n",
      "\n",
      "Result of Array after Addition - [ 2  3  4  5  6  7  8  9 10 11] \n",
      "\n",
      "\n",
      "Result of Array after Subtraction- [-4 -3 -2 -1  0  1  2  3  4  5] \n",
      "\n",
      "\n",
      "Result of Array after Multiplication - [ 0  2  4  6  8 10 12 14 16 18] \n",
      "\n",
      "\n",
      "Result of Array after Power - [  0   1   8  27  64 125 216 343 512 729] \n",
      "\n",
      "\n",
      "Result of Array after Division - [0.  0.2 0.4 0.6 0.8 1.  1.2 1.4 1.6 1.8] \n",
      "\n",
      "\n",
      "Result of Array after Floor Division - [0 0 1 1 2 2 3 3 4 4] \n",
      "\n",
      "\n",
      "Result of Array after Modulus-[ Gives the Remainder ] - [0 1 2 0 1 2 0 1 2 0] \n",
      "\n",
      "\n"
     ]
    }
   ],
   "source": [
    "# Lets do some arthematic operations on arrays \n",
    "ar1 = np.arange(10)\n",
    "print(\"Array -\",ar1,'\\n\\n')\n",
    "print(\"Result of Array after Addition -\",ar1+2,'\\n\\n')\n",
    "print(\"Result of Array after Subtraction-\",ar1-4,'\\n\\n')\n",
    "print(\"Result of Array after Multiplication -\",ar1*2,'\\n\\n')\n",
    "print(\"Result of Array after Power -\",ar1**3,'\\n\\n')\n",
    "print(\"Result of Array after Division -\",ar1/5,'\\n\\n')\n",
    "print(\"Result of Array after Floor Division -\",ar1//2,'\\n\\n')\n",
    "print(\"Result of Array after Modulus-[ Gives the Remainder ] -\",ar1%3,'\\n\\n')\n",
    "\n"
   ]
  },
  {
   "cell_type": "code",
   "execution_count": 11,
   "id": "7e245cac",
   "metadata": {},
   "outputs": [
    {
     "name": "stdout",
     "output_type": "stream",
     "text": [
      "Array -\n",
      " [[0 1]\n",
      " [2 3]\n",
      " [4 5]\n",
      " [6 7]\n",
      " [8 9]] \n",
      "\n",
      "\n",
      "Result of Array after Addition -\n",
      " [[ 2  3]\n",
      " [ 4  5]\n",
      " [ 6  7]\n",
      " [ 8  9]\n",
      " [10 11]] \n",
      "\n",
      "\n",
      "Result of Array after Subtraction-\n",
      " [[-4 -3]\n",
      " [-2 -1]\n",
      " [ 0  1]\n",
      " [ 2  3]\n",
      " [ 4  5]] \n",
      "\n",
      "\n",
      "Result of Array after Multiplication -\n",
      " [[ 0  2]\n",
      " [ 4  6]\n",
      " [ 8 10]\n",
      " [12 14]\n",
      " [16 18]] \n",
      "\n",
      "\n",
      "Result of Array after Power -\n",
      " [[  0   1]\n",
      " [  8  27]\n",
      " [ 64 125]\n",
      " [216 343]\n",
      " [512 729]] \n",
      "\n",
      "\n",
      "Result of Array after Division -\n",
      " [[0.  0.2]\n",
      " [0.4 0.6]\n",
      " [0.8 1. ]\n",
      " [1.2 1.4]\n",
      " [1.6 1.8]] \n",
      "\n",
      "\n",
      "Result of Array after Floor Division -\n",
      " [[0 0]\n",
      " [1 1]\n",
      " [2 2]\n",
      " [3 3]\n",
      " [4 4]] \n",
      "\n",
      "\n",
      "Result of Array after Modulus-[ Gives the Remainder ] -\n",
      " [[0 1]\n",
      " [2 0]\n",
      " [1 2]\n",
      " [0 1]\n",
      " [2 0]] \n",
      "\n",
      "\n"
     ]
    }
   ],
   "source": [
    "ar1 = np.arange(10).reshape((5,2))\n",
    "print(\"Array -\\n\",ar1,'\\n\\n')\n",
    "print(\"Result of Array after Addition -\\n\",ar1+2,'\\n\\n')\n",
    "print(\"Result of Array after Subtraction-\\n\",ar1-4,'\\n\\n')\n",
    "print(\"Result of Array after Multiplication -\\n\",ar1*2,'\\n\\n')\n",
    "print(\"Result of Array after Power -\\n\",ar1**3,'\\n\\n')\n",
    "print(\"Result of Array after Division -\\n\",ar1/5,'\\n\\n')\n",
    "print(\"Result of Array after Floor Division -\\n\",ar1//2,'\\n\\n')\n",
    "print(\"Result of Array after Modulus-[ Gives the Remainder ] -\\n\",ar1%3,'\\n\\n')"
   ]
  },
  {
   "cell_type": "code",
   "execution_count": 15,
   "id": "b12f2415",
   "metadata": {},
   "outputs": [
    {
     "name": "stdout",
     "output_type": "stream",
     "text": [
      "Result after Mathematical Expression -\n",
      " [[ 2  3]\n",
      " [ 6 11]\n",
      " [18 27]\n",
      " [38 51]\n",
      " [66 83]]\n"
     ]
    }
   ],
   "source": [
    "# You can even provide a expression \n",
    "\n",
    "print(\"Result after Mathematical Expression -\\n\", (ar1**2)+2)"
   ]
  },
  {
   "cell_type": "markdown",
   "id": "24d49027",
   "metadata": {},
   "source": [
    "### Another way of using Arthematic operators "
   ]
  },
  {
   "cell_type": "code",
   "execution_count": 16,
   "id": "82e1a2e8",
   "metadata": {},
   "outputs": [],
   "source": [
    "# You can use np.add() instead of a ' + ' \n",
    "# You can use np.subtract() instead of a ' - ' \n",
    "# You can use np.negative() instead of a ' - ' here you convert the positive values into negatives and negative values to positive \n",
    "# You can use np.multiply() instead of a ' * ' \n",
    "# You can use np.divide() instead of a ' / '\n",
    "# You can use np.floor_divide() instead of a ' // ' \n",
    "# You can use np.power() instead of a ' ** ' \n",
    "# You can use np.mod() instead of a ' % ' "
   ]
  },
  {
   "cell_type": "code",
   "execution_count": 18,
   "id": "d8553ac2",
   "metadata": {},
   "outputs": [
    {
     "name": "stdout",
     "output_type": "stream",
     "text": [
      "Array -\n",
      " [[0 1]\n",
      " [2 3]\n",
      " [4 5]\n",
      " [6 7]\n",
      " [8 9]] \n",
      "\n",
      "\n",
      "Result of Array after Addition -\n",
      " [[ 3  4]\n",
      " [ 5  6]\n",
      " [ 7  8]\n",
      " [ 9 10]\n",
      " [11 12]] \n",
      "\n",
      "\n",
      "Result of Array after Subtraction-\n",
      " [[-2 -1]\n",
      " [ 0  1]\n",
      " [ 2  3]\n",
      " [ 4  5]\n",
      " [ 6  7]] \n",
      "\n",
      "\n",
      "Result of Array after Multiplication -\n",
      " [[ 0  4]\n",
      " [ 8 12]\n",
      " [16 20]\n",
      " [24 28]\n",
      " [32 36]] \n",
      "\n",
      "\n",
      "Result of Array after Power -\n",
      " [[       0        1]\n",
      " [     256     6561]\n",
      " [   65536   390625]\n",
      " [ 1679616  5764801]\n",
      " [16777216 43046721]] \n",
      "\n",
      "\n",
      "Result of Array after Division -\n",
      " [[0.  0.5]\n",
      " [1.  1.5]\n",
      " [2.  2.5]\n",
      " [3.  3.5]\n",
      " [4.  4.5]] \n",
      "\n",
      "\n",
      "Result of Array after Floor Division -\n",
      " [[0 0]\n",
      " [0 0]\n",
      " [0 0]\n",
      " [0 0]\n",
      " [0 1]] \n",
      "\n",
      "\n",
      "Result of Array after Modulus-[ Gives the Remainder ] -\n",
      " [[0 1]\n",
      " [2 3]\n",
      " [4 0]\n",
      " [1 2]\n",
      " [3 4]] \n",
      "\n",
      "\n"
     ]
    }
   ],
   "source": [
    "print(\"Array -\\n\",ar1,'\\n\\n')\n",
    "print(\"Result of Array after Addition -\\n\",np.add(ar1,3),'\\n\\n')\n",
    "print(\"Result of Array after Subtraction-\\n\",np.subtract(ar1,2),'\\n\\n')\n",
    "print(\"Result of Array after Multiplication -\\n\",np.multiply(ar1,4),'\\n\\n')\n",
    "print(\"Result of Array after Power -\\n\",np.power(ar1,8),'\\n\\n')\n",
    "print(\"Result of Array after Division -\\n\",np.divide(ar1,2),'\\n\\n')\n",
    "print(\"Result of Array after Floor Division -\\n\",np.floor_divide(ar1,9),'\\n\\n')\n",
    "print(\"Result of Array after Modulus-[ Gives the Remainder ] -\\n\",np.mod(ar1,5),'\\n\\n')"
   ]
  },
  {
   "cell_type": "markdown",
   "id": "41de43bf",
   "metadata": {},
   "source": [
    "### Absolute Value Functions"
   ]
  },
  {
   "cell_type": "code",
   "execution_count": 24,
   "id": "2402584e",
   "metadata": {},
   "outputs": [
    {
     "data": {
      "text/plain": [
       "array([  -1,   -2, -100,    0,    1,  100])"
      ]
     },
     "execution_count": 24,
     "metadata": {},
     "output_type": "execute_result"
    }
   ],
   "source": [
    "# Aboslute value \n",
    "# Syntax - np.abs() or np.absolute()\n",
    "\n",
    "ar = np.array([-1,-2,-100,0,1,100])\n",
    "ar"
   ]
  },
  {
   "cell_type": "code",
   "execution_count": 25,
   "id": "5598b87e",
   "metadata": {},
   "outputs": [
    {
     "data": {
      "text/plain": [
       "array([  1,   2, 100,   0,   1, 100])"
      ]
     },
     "execution_count": 25,
     "metadata": {},
     "output_type": "execute_result"
    }
   ],
   "source": [
    "abs(ar)"
   ]
  },
  {
   "cell_type": "code",
   "execution_count": 27,
   "id": "2351c502",
   "metadata": {},
   "outputs": [
    {
     "name": "stdout",
     "output_type": "stream",
     "text": [
      "Array - [  -1   -2 -100    0    1  100] \n",
      "\n",
      "Result of Array using np.abs()- [  1   2 100   0   1 100] \n",
      "\n",
      "Result of Array using np.absolute()- [  1   2 100   0   1 100] \n",
      "\n"
     ]
    }
   ],
   "source": [
    "print('Array -',ar,'\\n')\n",
    "print(\"Result of Array using np.abs()-\",np.abs(ar),'\\n')\n",
    "print(\"Result of Array using np.absolute()-\",np.absolute(ar),'\\n')"
   ]
  },
  {
   "cell_type": "code",
   "execution_count": 29,
   "id": "32d97a5a",
   "metadata": {},
   "outputs": [
    {
     "data": {
      "text/plain": [
       "3.605551275463989"
      ]
     },
     "execution_count": 29,
     "metadata": {},
     "output_type": "execute_result"
    }
   ],
   "source": [
    "# absolute value can handle complex numbers [ 2+3j,1+4j ]\n",
    "# The aboslute value of a complex number returns the magnitude of two numbers \n",
    "# Ex -  2 + 3j  -->    sqrt( (2)** 2  + (3) ** 2 )  -->  sqrt( 4 + 9)  -->  sqrt( 13 ) --> 3.60\n",
    "\n",
    "np.abs(2+3j)"
   ]
  },
  {
   "cell_type": "markdown",
   "id": "713e59e8",
   "metadata": {},
   "source": [
    "### Trignometric Functions"
   ]
  },
  {
   "cell_type": "code",
   "execution_count": 47,
   "id": "045ffeea",
   "metadata": {},
   "outputs": [
    {
     "data": {
      "text/plain": [
       "array([ 0, 30, 45, 60, 90])"
      ]
     },
     "execution_count": 47,
     "metadata": {},
     "output_type": "execute_result"
    }
   ],
   "source": [
    "Theta = np.array([0,30,45,60,90])\n",
    "Theta"
   ]
  },
  {
   "cell_type": "code",
   "execution_count": 48,
   "id": "e37dd83f",
   "metadata": {},
   "outputs": [
    {
     "name": "stdout",
     "output_type": "stream",
     "text": [
      "Theta - [ 0 30 45 60 90]\n",
      " Sin values for the given Thetha value-  [ 0.         -0.98803162  0.85090352 -0.30481062  0.89399666]\n",
      " Cos values for the given Thetha value-  [ 1.          0.15425145  0.52532199 -0.95241298 -0.44807362]\n",
      " Tan values for the given Thetha value- [ 0.         -6.4053312   1.61977519  0.32004039 -1.99520041]\n"
     ]
    }
   ],
   "source": [
    "print(\"Theta -\", Theta)\n",
    "print(\" Sin values for the given Thetha value- \",np.sin(Theta))\n",
    "print(\" Cos values for the given Thetha value- \",np.cos(Theta))\n",
    "print(\" Tan values for the given Thetha value-\",np.tan(Theta))\n",
    "\n",
    "# The values are computed to within machine precision, which is why values that should be zero do not always hit exactly zero."
   ]
  },
  {
   "cell_type": "code",
   "execution_count": 50,
   "id": "39508c68",
   "metadata": {},
   "outputs": [
    {
     "data": {
      "text/plain": [
       "array([0.        , 0.52359878, 0.78539816, 1.04719755, 1.57079633])"
      ]
     },
     "execution_count": 50,
     "metadata": {},
     "output_type": "execute_result"
    }
   ],
   "source": [
    "# Now if you want the values of the trignometric functions you learned in your schooling \n",
    "\n",
    "theta = np.array([0,30,45,60,90])\n",
    "theta = np.radians(theta)\n",
    "theta"
   ]
  },
  {
   "cell_type": "code",
   "execution_count": 60,
   "id": "285084fb",
   "metadata": {},
   "outputs": [
    {
     "name": "stdout",
     "output_type": "stream",
     "text": [
      "Theta - [-0.01745329  0.          0.01745329]\n",
      " Sin values for the given Thetha value-  [-0.01745241  0.          0.01745241]\n",
      " Cos values for the given Thetha value-  [0.9998477 1.        0.9998477]\n",
      " Tan values for the given Thetha value- [-0.01745506  0.          0.01745506]\n"
     ]
    }
   ],
   "source": [
    "# you won't be getting values like 1/2 or 1/sqrt(2).\n",
    "# Instead you will be getting the decimal values for that data \n",
    "\n",
    "print(\"Theta -\", theta)\n",
    "print(\" Sin values for the given Thetha value- \",np.sin(theta))\n",
    "print(\" Cos values for the given Thetha value- \",np.cos(theta))\n",
    "print(\" Tan values for the given Thetha value-\",np.tan(theta))"
   ]
  },
  {
   "cell_type": "markdown",
   "id": "d83c2884",
   "metadata": {},
   "source": [
    "### Inverse Trignometric Functions "
   ]
  },
  {
   "cell_type": "code",
   "execution_count": 61,
   "id": "ada633f9",
   "metadata": {},
   "outputs": [
    {
     "name": "stdout",
     "output_type": "stream",
     "text": [
      "Theta - [-1  0  1]\n",
      " Sin values for the given Thetha value-  [-1.57079633  0.          1.57079633]\n",
      " Cos values for the given Thetha value-  [3.14159265 1.57079633 0.        ]\n",
      " Tan values for the given Thetha value- [-0.78539816  0.          0.78539816]\n"
     ]
    }
   ],
   "source": [
    "theta = np.array([-1,0,1])\n",
    "print(\"Theta -\", theta)\n",
    "print(\" Sin values for the given Thetha value- \",np.arcsin(theta))\n",
    "print(\" Cos values for the given Thetha value- \",np.arccos(theta))\n",
    "print(\" Tan values for the given Thetha value-\",np.arctan(theta))\n",
    "\n",
    "# The given values outputs are in radians because the theta value I provided are not in degrees they are in radians "
   ]
  },
  {
   "cell_type": "code",
   "execution_count": 67,
   "id": "7687f5ea",
   "metadata": {},
   "outputs": [
    {
     "name": "stdout",
     "output_type": "stream",
     "text": [
      "Theta - [-0.01745329  0.          0.01745329]\n",
      " Sin values for the given Thetha value-  [-0.01745418  0.          0.01745418]\n",
      " Cos values for the given Thetha value-  [1.58825051 1.57079633 1.55334215]\n",
      " Tan values for the given Thetha value- [-0.01745152  0.          0.01745152]\n"
     ]
    }
   ],
   "source": [
    "theta = np.array([-1,0,1])\n",
    "theta = np.radians(theta)\n",
    "print(\"Theta -\", theta)\n",
    "print(\" Sin values for the given Thetha value- \",np.arcsin(theta))\n",
    "print(\" Cos values for the given Thetha value- \",np.arccos(theta))\n",
    "print(\" Tan values for the given Thetha value-\",np.arctan(theta))"
   ]
  },
  {
   "cell_type": "markdown",
   "id": "18c34fe4",
   "metadata": {},
   "source": [
    "### Exponential Functions"
   ]
  },
  {
   "cell_type": "code",
   "execution_count": 69,
   "id": "1c9fa0cc",
   "metadata": {},
   "outputs": [
    {
     "name": "stdout",
     "output_type": "stream",
     "text": [
      "values = [1 2 3 4 5]\n",
      "e^x = [  2.71828183   7.3890561   20.08553692  54.59815003 148.4131591 ]\n",
      "2^x = [ 2.  4.  8. 16. 32.]\n",
      "3^x = [  3   9  27  81 243]\n"
     ]
    }
   ],
   "source": [
    "x = np.array([1,2,3,4,5])\n",
    "\n",
    "print('values =',x)\n",
    "print('e^x =',np.exp(x)) \n",
    "print('2^x =',np.exp2(x)) # 2 is the base and x is the power \n",
    "print('3^x =',np.power(3,x)) # 3 is the base and x is the power "
   ]
  },
  {
   "cell_type": "code",
   "execution_count": 71,
   "id": "1e653cbb",
   "metadata": {},
   "outputs": [
    {
     "name": "stdout",
     "output_type": "stream",
     "text": [
      "x^4 [  1  16  81 256 625]\n",
      "5^x [   5   25  125  625 3125]\n"
     ]
    }
   ],
   "source": [
    "# The latest version of numpy doesnot contain np.exp3 and values beyond that \n",
    "# However we can use the np.power to execute the program\n",
    "\n",
    "# Syntax for power --> np.pwer(base, exponent)\n",
    "print('x^4',np.power(x,4))     # The values of  x are [1,    2,   3,   4,  5]\n",
    "                               #                     [1^4, 2^4, 3^4, 4^4, 5^4]\n",
    "                               #                     [1  ,  16, 81,   256, 625]\n",
    "print('5^x',np.power(5,x))"
   ]
  },
  {
   "cell_type": "markdown",
   "id": "1df48ccb",
   "metadata": {},
   "source": [
    "### Logarithm Functions"
   ]
  },
  {
   "cell_type": "code",
   "execution_count": 75,
   "id": "86832416",
   "metadata": {},
   "outputs": [
    {
     "name": "stdout",
     "output_type": "stream",
     "text": [
      "Log - [1 2 3 4 5 6]\n",
      "Log base 2 - [0.         1.         1.5849625  2.         2.32192809 2.5849625 ]\n",
      "Log base 10 - [0.         0.30103    0.47712125 0.60205999 0.69897    0.77815125]\n"
     ]
    }
   ],
   "source": [
    "# logarithm is defined as what power must be raised to a base to obtain a given number\n",
    "\n",
    "log_arr= np.array([1,2,3,4,5,6])\n",
    "\n",
    "print('Log -',log_arr)\n",
    "print('Log base 2 -',np.log2(log_arr))  # Logarithm has base 2 \n",
    "print('Log base 10 -',np.log10(log_arr)) # Logarithm has base 10"
   ]
  },
  {
   "cell_type": "markdown",
   "id": "54cc95ed",
   "metadata": {},
   "source": [
    "### Specialized versions"
   ]
  },
  {
   "cell_type": "code",
   "execution_count": 82,
   "id": "b2c0b514",
   "metadata": {},
   "outputs": [
    {
     "name": "stdout",
     "output_type": "stream",
     "text": [
      "Array - [0 1 2 3] \n",
      "\n",
      "Array [ exp(x) - 1 ]- [ 0.          1.71828183  6.3890561  19.08553692] \n",
      "\n",
      "Array [ log(1+x) ]- [0.         0.69314718 1.09861229 1.38629436]\n"
     ]
    }
   ],
   "source": [
    "# expm1 and log1p are designed to handle certain numerical computations more accurately, especially when working with very small values\n",
    "\n",
    "ar = np.arange(4)\n",
    "print(\"Array -\",ar,'\\n')\n",
    "print(\"Array [ exp(x) - 1 ]-\",np.expm1(ar),'\\n') # expm1 --> uses ( e^x - 1 )\n",
    "print(\"Array [ log(1+x) ]-\",np.log1p(ar)) # log1p --> uses log(1+x)"
   ]
  },
  {
   "cell_type": "code",
   "execution_count": 91,
   "id": "fe0991f3",
   "metadata": {},
   "outputs": [
    {
     "name": "stdout",
     "output_type": "stream",
     "text": [
      "Gamma - [       inf 9.5135077  4.59084371 2.99156899 2.21815954 0.95135077]\n"
     ]
    }
   ],
   "source": [
    "# to import these universal functions \n",
    "from scipy import special \n",
    "\n",
    "# Gamma Function \n",
    "# The gamma function generalizes the factorial function for real and complex numbers, except for negative integers and zero\n",
    "\n",
    "x = [0,0.1,0.2,0.3,0.4,1.10]\n",
    "print(\"Gamma -\",special.gamma(x))"
   ]
  },
  {
   "cell_type": "code",
   "execution_count": 92,
   "id": "0b24cfa8",
   "metadata": {},
   "outputs": [
    {
     "name": "stdout",
     "output_type": "stream",
     "text": [
      "ln|gamma - [        inf  2.25271265  1.52406382  1.09579799  0.79667782 -0.04987244]\n"
     ]
    }
   ],
   "source": [
    "# Gamma Ln Function\n",
    "# It is useful for numerical stability when dealing with very large or small values \n",
    "\n",
    "print(\"ln|gamma -\",special.gammaln(x))"
   ]
  },
  {
   "cell_type": "code",
   "execution_count": 93,
   "id": "7d86a0dc",
   "metadata": {},
   "outputs": [
    {
     "name": "stdout",
     "output_type": "stream",
     "text": [
      "Beta - [       inf 9.09090909 4.16666667 2.56410256 1.78571429 0.43290043]\n"
     ]
    }
   ],
   "source": [
    "# Beta Function\n",
    "# It is symmetric and commonly appears in calculus and probability\n",
    "\n",
    "print(\"Beta -\",special.beta(x,2))  # [ Gamma(0) * Gamma(2)/ Gamma(0+2) ]"
   ]
  },
  {
   "cell_type": "code",
   "execution_count": 94,
   "id": "1394f357",
   "metadata": {},
   "outputs": [
    {
     "name": "stdout",
     "output_type": "stream",
     "text": [
      "Error - [0.         0.11246292 0.22270259 0.32862676 0.42839236 0.88020507]\n"
     ]
    }
   ],
   "source": [
    "# Error Function\n",
    "# The error function is a mathematical function that arises in statistics and the solution of the heat equation\n",
    "\n",
    "print(\"Error -\",special.erf(x))"
   ]
  },
  {
   "cell_type": "code",
   "execution_count": 95,
   "id": "88fc93b2",
   "metadata": {},
   "outputs": [
    {
     "name": "stdout",
     "output_type": "stream",
     "text": [
      "Complimentary Error - [1.         0.88753708 0.77729741 0.67137324 0.57160764 0.11979493]\n"
     ]
    }
   ],
   "source": [
    "# Complimentary Error Function \n",
    "# The complementary error function is defined as:\n",
    "# erfc(x)=1−erf(x)\n",
    "\n",
    "print(\"Complimentary Error -\",special.erfc(x))"
   ]
  },
  {
   "cell_type": "code",
   "execution_count": 96,
   "id": "9579c137",
   "metadata": {},
   "outputs": [
    {
     "name": "stdout",
     "output_type": "stream",
     "text": [
      "Inverse Error Function - [0.         0.08885599 0.17914345 0.27246271 0.37080716        nan]\n"
     ]
    }
   ],
   "source": [
    "# Inverse Error Function\n",
    "# The inverse error function, \n",
    "# erf(erfinv(x))=x\n",
    "\n",
    "print(\"Inverse Error Function -\",special.erfinv(x))"
   ]
  },
  {
   "cell_type": "markdown",
   "id": "39ea30d9",
   "metadata": {},
   "source": [
    "### Specifying Outputs"
   ]
  },
  {
   "cell_type": "code",
   "execution_count": 100,
   "id": "7a3e6ff6",
   "metadata": {},
   "outputs": [
    {
     "name": "stdout",
     "output_type": "stream",
     "text": [
      "[0 1 2 3 4]\n",
      "[ 0. 10. 20. 30. 40.]\n",
      "[ 0. 10. 20. 30. 40.]\n",
      "[ 0. 10. 20. 30. 40.]\n"
     ]
    }
   ],
   "source": [
    "x = np.arange(5)\n",
    "y = np.empty(5) # Gives the data that are present in the memory location ,referred to as garbage values\n",
    "\n",
    "print(x) # This gives an arra of 5 elements \n",
    "print(y) # this gives an array of 5 values \n",
    "print(np.multiply(x,10,out=y)) # the values of x are multiplied by 10 and the result is stored in y\n",
    "print(y) # this prints the updated array "
   ]
  },
  {
   "cell_type": "code",
   "execution_count": 127,
   "id": "9cd2bf90",
   "metadata": {},
   "outputs": [
    {
     "name": "stdout",
     "output_type": "stream",
     "text": [
      "[[0. 1.]\n",
      " [2. 3.]\n",
      " [4. 5.]] \n",
      "\n",
      "[[2.  2.8]\n",
      " [3.6 4.4]\n",
      " [5.2 6. ]] \n",
      "\n",
      "[[4.  4.8]\n",
      " [5.6 6.4]\n",
      " [7.2 8. ]] \n",
      "\n",
      "[[4.  4.8]\n",
      " [5.6 6.4]\n",
      " [7.2 8. ]]\n"
     ]
    }
   ],
   "source": [
    "ar = np.arange(6, dtype='float64').reshape(3,2) # Due to ar_t consisting of float64 values, We set dtype='float64' to dodge errors \n",
    "ar_t = np.linspace(2,6,6).reshape(3,2) # The variable ar_t consists of float64 values \n",
    "\n",
    "print(ar,'\\n')\n",
    "print(ar_t,'\\n')\n",
    "print(np.add(ar_t,2,out=ar),'\\n')\n",
    "print(ar)"
   ]
  },
  {
   "cell_type": "code",
   "execution_count": 136,
   "id": "075167dc",
   "metadata": {},
   "outputs": [
    {
     "name": "stdout",
     "output_type": "stream",
     "text": [
      "[1. 1. 1. 1. 1. 1. 1. 1. 1. 1.]\n",
      "[2. 2. 2. 2. 2.]\n"
     ]
    }
   ],
   "source": [
    "y = np.ones(10)\n",
    "print(x)\n",
    "np.power(2,x,out=y)\n",
    "print(y[::2])"
   ]
  },
  {
   "cell_type": "markdown",
   "id": "3827d170",
   "metadata": {},
   "source": [
    "### Aggregates "
   ]
  },
  {
   "cell_type": "markdown",
   "id": "e833619c",
   "metadata": {},
   "source": [
    "#### Reduce is used for just displaying the final result  \n",
    "####  Accumulate is used  for displaying the step by step results"
   ]
  },
  {
   "cell_type": "markdown",
   "id": "c2d45e0f",
   "metadata": {},
   "source": [
    "#### reduce "
   ]
  },
  {
   "cell_type": "code",
   "execution_count": 139,
   "id": "e682f841",
   "metadata": {},
   "outputs": [
    {
     "data": {
      "text/plain": [
       "10"
      ]
     },
     "execution_count": 139,
     "metadata": {},
     "output_type": "execute_result"
    }
   ],
   "source": [
    "a = np.arange(1,5) # Creates values - 1,2,3,4\n",
    "\n",
    "np.add.reduce(a) # Adds all the values in the array --> 1+2+3+4 -> 10"
   ]
  },
  {
   "cell_type": "code",
   "execution_count": 141,
   "id": "a1d28e08",
   "metadata": {},
   "outputs": [
    {
     "data": {
      "text/plain": [
       "-8"
      ]
     },
     "execution_count": 141,
     "metadata": {},
     "output_type": "execute_result"
    }
   ],
   "source": [
    "np.subtract.reduce(a) # Subtracts the values in the array --> 1-2-3-4 -> -8"
   ]
  },
  {
   "cell_type": "code",
   "execution_count": 142,
   "id": "eada8528",
   "metadata": {},
   "outputs": [
    {
     "data": {
      "text/plain": [
       "24"
      ]
     },
     "execution_count": 142,
     "metadata": {},
     "output_type": "execute_result"
    }
   ],
   "source": [
    "np.multiply.reduce(a) # Multiplies the values in the array --> 1*2*3*4 -> 24"
   ]
  },
  {
   "cell_type": "code",
   "execution_count": 143,
   "id": "2477bf6b",
   "metadata": {},
   "outputs": [
    {
     "data": {
      "text/plain": [
       "0.041666666666666664"
      ]
     },
     "execution_count": 143,
     "metadata": {},
     "output_type": "execute_result"
    }
   ],
   "source": [
    "np.divide.reduce(a) # Divides the values in the array --> 1/2/3/4 -> 0.0416"
   ]
  },
  {
   "cell_type": "markdown",
   "id": "0b325aa8",
   "metadata": {},
   "source": [
    "#### accumulate"
   ]
  },
  {
   "cell_type": "code",
   "execution_count": 144,
   "id": "1ba20680",
   "metadata": {},
   "outputs": [
    {
     "data": {
      "text/plain": [
       "array([1, 2, 3, 4])"
      ]
     },
     "execution_count": 144,
     "metadata": {},
     "output_type": "execute_result"
    }
   ],
   "source": [
    "a "
   ]
  },
  {
   "cell_type": "code",
   "execution_count": 145,
   "id": "d1f229a2",
   "metadata": {},
   "outputs": [
    {
     "data": {
      "text/plain": [
       "array([ 1,  3,  6, 10])"
      ]
     },
     "execution_count": 145,
     "metadata": {},
     "output_type": "execute_result"
    }
   ],
   "source": [
    "                      # a contains -> 1, 2, 3, 4  \n",
    "np.add.accumulate(a)  # accumulate does the following -->  \n",
    "                      # 1,       2,        3,    4      Given Array  \n",
    "                      # 1, 1+2 = 3, 1+2+3= 6,  1+2+3+4= 10    \n",
    "                      # 1,       3,        6,   10      Final Result   "
   ]
  },
  {
   "cell_type": "code",
   "execution_count": 146,
   "id": "4d859995",
   "metadata": {},
   "outputs": [
    {
     "data": {
      "text/plain": [
       "array([ 1, -1, -4, -8])"
      ]
     },
     "execution_count": 146,
     "metadata": {},
     "output_type": "execute_result"
    }
   ],
   "source": [
    "                          # a contains -> 1, 2, 3, 4  \n",
    "np.subtract.accumulate(a) # accumulate does the following -->  \n",
    "                          # 1,        2,         3,    4        Given Array  \n",
    "                          # 1, 1-2 = -1, 1-2-3= -4,  1-2-3-4= -8    \n",
    "                          # 1,       -1,        -4,   -8        Final Result  \n",
    " "
   ]
  },
  {
   "cell_type": "code",
   "execution_count": 147,
   "id": "89885636",
   "metadata": {},
   "outputs": [
    {
     "data": {
      "text/plain": [
       "array([ 1,  2,  6, 24])"
      ]
     },
     "execution_count": 147,
     "metadata": {},
     "output_type": "execute_result"
    }
   ],
   "source": [
    "                          # a contains -> 1, 2, 3, 4  \n",
    "np.multiply.accumulate(a) # accumulate does the following -->  \n",
    "                          # 1,        2,         3,    4        Given Array  \n",
    "                          # 1,  1*2=  2,  1*2*3= 6,  1*2*3*4= 24  \n",
    "                          # 1,        2,         6,   24        Final Result  \n"
   ]
  },
  {
   "cell_type": "markdown",
   "id": "b4a3a0ec",
   "metadata": {},
   "source": [
    "### Outer "
   ]
  },
  {
   "cell_type": "code",
   "execution_count": 150,
   "id": "e6a11289",
   "metadata": {},
   "outputs": [
    {
     "name": "stdout",
     "output_type": "stream",
     "text": [
      "[0 1 2 3] \n",
      "\n",
      "[0 1 5 6] \n",
      "\n",
      "Product of the two arrays -\n",
      " [[ 0  0  0  0]\n",
      " [ 0  1  5  6]\n",
      " [ 0  2 10 12]\n",
      " [ 0  3 15 18]]\n"
     ]
    }
   ],
   "source": [
    "# Important Note --> Results of outer are always 2D,even when operating on 1D vectors or scalars, the output will always be 2D  \n",
    "\n",
    "a = np.arange(4)\n",
    "b = np.array([0,1,5,6])\n",
    "\n",
    "print(a,'\\n') # gives the values -->  [0,1,2,3]  \n",
    "print(b,'\\n') # gives the values --> [0,1,5,6]  \n",
    "print('Product of the two arrays -\\n',np.outer(a,b))\n",
    "                                                    # [0,1,2,3] * [0,1,5,6]  \n",
    "    \n",
    "                                                    # [0*0, 0*1, 0*5, 0*6]  \n",
    "                                                    # [1*0, 1*1, 1*5, 1*6]  \n",
    "                                                    # [2*0, 2*1, 2*5, 2*6]  \n",
    "                                                    # [3*0, 3*1, 3*5, 3*6]  \n",
    "                    \n",
    "                                                    \n",
    "                                                    # Result:  \n",
    "                    \n",
    "                                                    # [0, 0,  0, 0]  \n",
    "                                                    # [0, 1,  5, 6]  \n",
    "                                                    # [0, 2, 10, 12]  \n",
    "                                                    # [0, 3, 15, 18]  "
   ]
  },
  {
   "cell_type": "code",
   "execution_count": 155,
   "id": "4605d6b2",
   "metadata": {},
   "outputs": [
    {
     "name": "stdout",
     "output_type": "stream",
     "text": [
      "[0 1 2 3] \n",
      "\n",
      "Result -\n",
      " [[0 2 4 6]]\n"
     ]
    }
   ],
   "source": [
    "print(a,'\\n')\n",
    "\n",
    "print('Result -\\n',np.outer(2,a))   # 2 * [0,1,2,3]  \n",
    "                                    # [2*0, 2*1, 2*2, 2*3]  \n",
    "                                    # [0,2,4,6]  "
   ]
  },
  {
   "cell_type": "code",
   "execution_count": 159,
   "id": "bc137f85",
   "metadata": {},
   "outputs": [
    {
     "name": "stdout",
     "output_type": "stream",
     "text": [
      "[[0 1]\n",
      " [2 3]] \n",
      "\n",
      "[[0 1 2]\n",
      " [3 4 5]] \n",
      "\n",
      "Result-\n",
      " [[ 0  0  0  0  0  0]\n",
      " [ 0  1  2  3  4  5]\n",
      " [ 0  2  4  6  8 10]\n",
      " [ 0  3  6  9 12 15]]\n"
     ]
    }
   ],
   "source": [
    "a1 = np.arange(4).reshape(2,2) # gives a 2x2 array   \n",
    "a2 = np.arange(6).reshape(2,3) # gives a 2x3 array  \n",
    "\n",
    "print(a1,'\\n') \n",
    "print(a2,'\\n') \n",
    "print('Result-\\n',np.outer(a1,a2)) \n",
    "                                    # [0, 1]    [0, 1, 2]   =  [0*0, 0*1, 0*2, 0*3, 0*4, 0*5]  =  [0, 0, 0, 0, 0, 0]  \n",
    "                                    # [2, 3]    [3, 4, 5]      [1*0, 1*1, 1*2, 1*3, 1*4, 1*5]     [0, 1, 2, 3, 4, 5]  \n",
    "                                    #                          [2*0, 2*1, 2*2, 2*3, 2*4, 2*5]     [0, 2, 4, 6, 8, 10]  \n",
    "                                    #                          [3*0, 3*1, 3*2, 3*3, 3*4, 3*5]     [0, 3, 6, 9, 12, 15]  \n",
    "                                   "
   ]
  },
  {
   "cell_type": "markdown",
   "id": "2634870a",
   "metadata": {},
   "source": [
    "### Summing the values in array "
   ]
  },
  {
   "cell_type": "code",
   "execution_count": 160,
   "id": "0c32abe2",
   "metadata": {},
   "outputs": [
    {
     "name": "stdout",
     "output_type": "stream",
     "text": [
      "[0.71360005 0.39067592 0.97287567 0.19993285 0.664969   0.24402069\n",
      " 0.54050872 0.85658583 0.21564547 0.05922755 0.77128259 0.91261337\n",
      " 0.69128461 0.8959721  0.95108445 0.98839134 0.69107051 0.29989744\n",
      " 0.79353557 0.83892709 0.12563778 0.17263179 0.79960965 0.90966015\n",
      " 0.5966897  0.79350659 0.00563492 0.0250861  0.73088477 0.1571108\n",
      " 0.66666721 0.44283163 0.56162919 0.13003239 0.48007732 0.83126785\n",
      " 0.16809463 0.27920502 0.14523362 0.25182031 0.37699676 0.58880298\n",
      " 0.7593018  0.68910487 0.77915147 0.23386236 0.55882224 0.55154362\n",
      " 0.40296714 0.4427947  0.90550851 0.99266887 0.58126475 0.59694297\n",
      " 0.28797117 0.96090451 0.79730717 0.20970436 0.12443042 0.57711719\n",
      " 0.63827933 0.34983851 0.19497233 0.20163962 0.00395377 0.16715437\n",
      " 0.9885742  0.93192104 0.80245695 0.14931381 0.26570977 0.71161659\n",
      " 0.98111557 0.71684897 0.07710191 0.91784213 0.80712246 0.27648015\n",
      " 0.83883646 0.10143431 0.90611849 0.0906489  0.3554526  0.76745648\n",
      " 0.39955689 0.63839139 0.50596174 0.21789829 0.1285954  0.50726665\n",
      " 0.00690378 0.36880385 0.64784774 0.80861342 0.19249722 0.68931282\n",
      " 0.93401539 0.94213808 0.44090735 0.69423717] \n",
      "\n",
      "sum - 52.74741599837431\n"
     ]
    }
   ],
   "source": [
    "a = np.random.random(100)\n",
    "print(a,'\\n')\n",
    "print(\"sum -\",np.sum(a))"
   ]
  },
  {
   "cell_type": "markdown",
   "id": "c911fa33",
   "metadata": {},
   "source": [
    "### Min Max Functions "
   ]
  },
  {
   "cell_type": "code",
   "execution_count": 162,
   "id": "fd2f3425",
   "metadata": {},
   "outputs": [
    {
     "name": "stdout",
     "output_type": "stream",
     "text": [
      "Maximum value in the array-  0.9998166723104871\n",
      "Minimum value in the array-  0.0007199700525335473\n"
     ]
    }
   ],
   "source": [
    "a = np.random.random(1000)\n",
    "print('Maximum value in the array- ',np.max(a)) # Gives the maximum value present in the array \n",
    "print('Minimum value in the array- ',np.min(a)) # Gives the minimum value present in the array "
   ]
  },
  {
   "cell_type": "markdown",
   "id": "13730747",
   "metadata": {},
   "source": [
    "### axis"
   ]
  },
  {
   "cell_type": "markdown",
   "id": "7a4fa726",
   "metadata": {},
   "source": [
    "#### axis= 0 --> Does column-wise operations   \n",
    "#### axis= 1 --> Does row-wise operations   "
   ]
  },
  {
   "cell_type": "code",
   "execution_count": 164,
   "id": "16de89cb",
   "metadata": {},
   "outputs": [
    {
     "data": {
      "text/plain": [
       "array([[0, 1, 2],\n",
       "       [3, 4, 5],\n",
       "       [6, 7, 8]])"
      ]
     },
     "execution_count": 164,
     "metadata": {},
     "output_type": "execute_result"
    }
   ],
   "source": [
    "ar = np.arange(9).reshape(3,3)\n",
    "ar"
   ]
  },
  {
   "cell_type": "code",
   "execution_count": 167,
   "id": "c4922b94",
   "metadata": {},
   "outputs": [
    {
     "name": "stdout",
     "output_type": "stream",
     "text": [
      "Result of addition of each Columns-  [ 9 12 15]\n",
      "Result of addition of each Rows- [ 3 12 21]\n"
     ]
    }
   ],
   "source": [
    "print('Result of addition of each Columns- ',np.sum(ar,axis=0)) # column values = [ 0+3+6, 1+4+7, 2+5+8 ] --> [9, 12, 15]\n",
    "                                                                \n",
    "print(\"Result of addition of each Rows-\",np.sum(ar,axis=1)) # Row values = [0+1+2, 3+4+5, 6+7+8] --> [3, 12, 21]"
   ]
  },
  {
   "cell_type": "code",
   "execution_count": null,
   "id": "f0a289db",
   "metadata": {},
   "outputs": [],
   "source": []
  }
 ],
 "metadata": {
  "kernelspec": {
   "display_name": "Python 3 (ipykernel)",
   "language": "python",
   "name": "python3"
  },
  "language_info": {
   "codemirror_mode": {
    "name": "ipython",
    "version": 3
   },
   "file_extension": ".py",
   "mimetype": "text/x-python",
   "name": "python",
   "nbconvert_exporter": "python",
   "pygments_lexer": "ipython3",
   "version": "3.11.5"
  }
 },
 "nbformat": 4,
 "nbformat_minor": 5
}

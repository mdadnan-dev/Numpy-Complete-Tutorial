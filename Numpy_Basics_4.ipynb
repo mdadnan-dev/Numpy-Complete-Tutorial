{
 "cells": [
  {
   "cell_type": "markdown",
   "id": "0cf2af10",
   "metadata": {},
   "source": [
    "## Numpy_Basics_4"
   ]
  },
  {
   "cell_type": "markdown",
   "id": "bfbee248",
   "metadata": {},
   "source": [
    "--> Broadcasting  \n",
    "--> Mean  \n",
    "--> Comparison Operators Universal Functions  \n",
    "--> Counting entries  \n",
    "--> Boolean Operators  \n",
    "--> Boolean Array as Masks  \n",
    "--> Fancy Indexing  \n",
    "--> Combined Indexing  \n",
    "--> Modifying Values using Fancy Indexing  \n",
    "--> at()  \n"
   ]
  },
  {
   "cell_type": "markdown",
   "id": "a0e54df5",
   "metadata": {},
   "source": [
    "### Broadcasting "
   ]
  },
  {
   "cell_type": "code",
   "execution_count": 2,
   "id": "77a19886",
   "metadata": {},
   "outputs": [],
   "source": [
    "import numpy as np"
   ]
  },
  {
   "cell_type": "code",
   "execution_count": 11,
   "id": "8b4fcf29",
   "metadata": {},
   "outputs": [],
   "source": [
    "# Broadcasting -\n",
    "# Broadcasting automatically adjusts arrays with smaller dimensions to match the shape of larger arrays\n",
    "# The 1D array is \"stretched\" across the rows to match its shape\n",
    "\n",
    "a = np.array([1,2,3,4])\n",
    "b = np.array([4,3,2,6])"
   ]
  },
  {
   "cell_type": "code",
   "execution_count": 4,
   "id": "d0a92b8d",
   "metadata": {},
   "outputs": [
    {
     "name": "stdout",
     "output_type": "stream",
     "text": [
      "Result - [ 5  5  5 10]\n"
     ]
    }
   ],
   "source": [
    "print('Result -',a+b)\n"
   ]
  },
  {
   "cell_type": "code",
   "execution_count": 5,
   "id": "5fcb3c04",
   "metadata": {},
   "outputs": [
    {
     "name": "stdout",
     "output_type": "stream",
     "text": [
      "Result - [4 5 6 7]\n"
     ]
    }
   ],
   "source": [
    "print('Result -',a+3)"
   ]
  },
  {
   "cell_type": "code",
   "execution_count": 10,
   "id": "15c5f782",
   "metadata": {},
   "outputs": [
    {
     "name": "stdout",
     "output_type": "stream",
     "text": [
      "Values of c- \n",
      " [[1. 1. 1. 1.]\n",
      " [1. 1. 1. 1.]\n",
      " [1. 1. 1. 1.]\n",
      " [1. 1. 1. 1.]] \n",
      "\n",
      "Result -\n",
      " [[2. 3. 4. 5.]\n",
      " [2. 3. 4. 5.]\n",
      " [2. 3. 4. 5.]\n",
      " [2. 3. 4. 5.]]\n"
     ]
    }
   ],
   "source": [
    "c = np.ones((4,4))\n",
    "print('Values of c- \\n',c,'\\n')   # This gives a 4x4 array consisting of all 4's\n",
    "print(\"Result -\\n\",a+c)  # Here 'a' is a 1D array which brodcasts or streches into array 'c' and gives the result "
   ]
  },
  {
   "cell_type": "code",
   "execution_count": 49,
   "id": "bcd346a8",
   "metadata": {},
   "outputs": [],
   "source": [
    "# Rules of Broadcasting\n",
    "\n",
    "# Rule 1: If the two arrays differ in their number of dimensions, the shape of the one with fewer dimensions is padded with ones on its leading (left) side\n",
    "\n",
    "# Rule 2: If the shape of the two arrays does not match in any dimension, the array with shape equal to 1 in that dimension is stretched to match the other shape\n",
    "\n",
    "# Rule 3: If in any dimension the sizes disagree and neither is equal to 1, an error is raised"
   ]
  },
  {
   "cell_type": "code",
   "execution_count": 19,
   "id": "77c31f71",
   "metadata": {},
   "outputs": [
    {
     "name": "stdout",
     "output_type": "stream",
     "text": [
      "a- \n",
      " [0 1 2] \n",
      "\n",
      "b- \n",
      " [[0]\n",
      " [1]\n",
      " [2]] \n",
      "\n",
      "Shape of 'a' -  (3,) \n",
      "\n",
      "Shape of 'b' - (3, 1) \n",
      "\n",
      "Result of a + b \n",
      " [[0 1 2]\n",
      " [1 2 3]\n",
      " [2 3 4]]\n"
     ]
    }
   ],
   "source": [
    "# Dimensions are compatible if:\n",
    "# They are the same, or one of the dimensions is 1.\n",
    "\n",
    "# in the below case the column size 3 is matching \n",
    "\n",
    "a = np.array([1,2,3]) # shape(3,)\n",
    "b = np.array([[1,2,3],[2,3,4]]) # shape(2,3)\n",
    "a + b "
   ]
  },
  {
   "cell_type": "code",
   "execution_count": 44,
   "id": "b81d3caa",
   "metadata": {},
   "outputs": [
    {
     "name": "stdout",
     "output_type": "stream",
     "text": [
      "Shape of 'a'  (3,) \n",
      "\n",
      "Shape of 'a' after using newaxis - (3, 1) \n",
      "\n",
      "Shape of 'b'- (3, 1) \n",
      "\n",
      "[[2]\n",
      " [4]\n",
      " [6]]\n"
     ]
    }
   ],
   "source": [
    "a = np.array([1,2,3]) # shape(3,)\n",
    "b = np.array([[1],[2],[3]]) #Shape (3,1)\n",
    "print(\"Shape of 'a' \",a.shape,'\\n')\n",
    "a= a[:,np.newaxis]\n",
    "print(\"Shape of 'a' after using newaxis -\",a.shape,'\\n')\n",
    "print(\"Shape of 'b'-\",b.shape,'\\n')\n",
    "print(a+b) # This satisfies the above condition given \n",
    "           # Dimensions are compatible if:\n",
    "           # They are the same, or one of the dimensions is 1."
   ]
  },
  {
   "cell_type": "code",
   "execution_count": 46,
   "id": "1fcef816",
   "metadata": {},
   "outputs": [
    {
     "name": "stdout",
     "output_type": "stream",
     "text": [
      "[5 7 9]\n"
     ]
    }
   ],
   "source": [
    "a = np.array([1, 2, 3])  # Shape: (3,)\n",
    "b = np.array([4, 5, 6])  # Shape: (3,)\n",
    "\n",
    "print(a + b)  # Both shapes are identical, no broadcasting needed.\n"
   ]
  },
  {
   "cell_type": "code",
   "execution_count": 47,
   "id": "db708bd5",
   "metadata": {},
   "outputs": [
    {
     "name": "stdout",
     "output_type": "stream",
     "text": [
      "[11 12 13]\n"
     ]
    }
   ],
   "source": [
    "a = np.array([1, 2, 3])  # Shape: (3,)\n",
    "b = 10  # Shape: () (scalar)\n",
    "\n",
    "print(a+b)  # Scalar is broadcast to match the shape of 'a'.\n",
    "\n"
   ]
  },
  {
   "cell_type": "markdown",
   "id": "10c9fedd",
   "metadata": {},
   "source": [
    "### Mean"
   ]
  },
  {
   "cell_type": "code",
   "execution_count": 50,
   "id": "4548eb43",
   "metadata": {},
   "outputs": [
    {
     "name": "stdout",
     "output_type": "stream",
     "text": [
      "Array \n",
      " [[0.79922767 0.03134028 0.03150577]\n",
      " [0.35162198 0.10093931 0.69824031]\n",
      " [0.76471602 0.77496155 0.83974335]\n",
      " [0.30594325 0.96171716 0.47698395]\n",
      " [0.82452214 0.00638658 0.42840624]\n",
      " [0.35124004 0.38474404 0.46866608]\n",
      " [0.8958795  0.60541498 0.82165415]\n",
      " [0.32322405 0.24104336 0.7868113 ]\n",
      " [0.11477982 0.47051452 0.62972838]\n",
      " [0.4918082  0.2150976  0.29785493]]\n"
     ]
    }
   ],
   "source": [
    "a = np.random.random((10,3))\n",
    "print(\"Array \\n\",a)"
   ]
  },
  {
   "cell_type": "code",
   "execution_count": 56,
   "id": "064c0544",
   "metadata": {},
   "outputs": [
    {
     "name": "stdout",
     "output_type": "stream",
     "text": [
      "mean - 0.4831572169771131\n"
     ]
    }
   ],
   "source": [
    "print(\"mean -\",np.mean(a)) # Gives the mean of the entire array "
   ]
  },
  {
   "cell_type": "code",
   "execution_count": 58,
   "id": "1fd257ca",
   "metadata": {},
   "outputs": [
    {
     "name": "stdout",
     "output_type": "stream",
     "text": [
      "Mean of Columns - [0.52229627 0.37921594 0.54795945] \n",
      "\n",
      "Mean of Rows - [0.28735791 0.38360053 0.79314031 0.58154812 0.41977165 0.40155006\n",
      " 0.77431621 0.45035957 0.40500758 0.33492024]\n"
     ]
    }
   ],
   "source": [
    "print(\"Mean of Columns -\",a.mean(0),'\\n') # Gives the mean of columns - 3 outputs \n",
    "print(\"Mean of Rows -\",a.mean(1)) # Gives the mean of rows - 10 outputs "
   ]
  },
  {
   "cell_type": "code",
   "execution_count": 60,
   "id": "3187e2d1",
   "metadata": {},
   "outputs": [
    {
     "name": "stdout",
     "output_type": "stream",
     "text": [
      "Array -\n",
      "  [1 2 3]\n",
      "Mean of 'a'- 2.0\n",
      "Centered Mean of 'a'-  [-1.  0.  1.]\n"
     ]
    }
   ],
   "source": [
    "# Centered_mean = Each_value - mean\n",
    "\n",
    "a = np.array([1,2,3])\n",
    "print(\"Array -\\n \",a)            # creating a 1D array \n",
    "\n",
    "mean_a = a.mean()                # Produces mean of array 'a'\n",
    "print(\"Mean of 'a'-\",mean_a)\n",
    "\n",
    "centered_mean_a = a - mean_a     # Produces the cenetered mean of each element\n",
    "print(\"Centered Mean of 'a'- \",centered_mean_a)"
   ]
  },
  {
   "cell_type": "code",
   "execution_count": 65,
   "id": "c072a5c3",
   "metadata": {},
   "outputs": [
    {
     "name": "stdout",
     "output_type": "stream",
     "text": [
      "array -\n",
      " [[0.82173186 0.84070575 0.56655382]\n",
      " [0.10017947 0.96577366 0.8185708 ]\n",
      " [0.649112   0.55031315 0.33193935]\n",
      " [0.54871321 0.8460914  0.08037438]]\n",
      "\n",
      "Mean of 'b'- 0.5933382373425805\n",
      "\n",
      "Centered mean of 'b'- \n",
      " [[ 0.22839363  0.24736751 -0.02678442]\n",
      " [-0.49315876  0.37243543  0.22523256]\n",
      " [ 0.05577376 -0.04302509 -0.26139889]\n",
      " [-0.04462503  0.25275316 -0.51296386]]\n"
     ]
    }
   ],
   "source": [
    "# In this code we are finding the centered the array with respect to the overall mean\n",
    "\n",
    "b = np.random.random((4,3))       # We are creating a 4x3 array \n",
    "print(\"array -\\n\",b)\n",
    "\n",
    "mean_b = b.mean()                 # We are producing mean of the array 'b'\n",
    "print(\"\\nMean of 'b'-\",mean_b)\n",
    "\n",
    "centered_mean_b = b - mean_b      # This produces the centered mean of each element\n",
    "print(\"\\nCentered mean of 'b'- \\n\", centered_mean_b)"
   ]
  },
  {
   "cell_type": "code",
   "execution_count": 67,
   "id": "b7c1679e",
   "metadata": {},
   "outputs": [
    {
     "name": "stdout",
     "output_type": "stream",
     "text": [
      "Mean of columns of 'b'-\n",
      " [0.52993414 0.80072099 0.44935959]\n",
      "\n",
      "Centered Columns of 'b' -\n",
      " [[ 0.29179773  0.03998476  0.11719423]\n",
      " [-0.42975466  0.16505268  0.36921121]\n",
      " [ 0.11917787 -0.25040784 -0.11742023]\n",
      " [ 0.01877907  0.04537041 -0.3689852 ]]\n",
      "Mean of rows of b-\n",
      " [0.52993414 0.80072099 0.44935959]\n",
      "\n",
      " Centered Rows of 'b'- \n",
      " [[ 0.29179773  0.03998476  0.11719423]\n",
      " [-0.42975466  0.16505268  0.36921121]\n",
      " [ 0.11917787 -0.25040784 -0.11742023]\n",
      " [ 0.01877907  0.04537041 -0.3689852 ]]\n"
     ]
    }
   ],
   "source": [
    "# In this code we are finding the mean along specific axes of a 2D array (b) and then center the array accordingly.\n",
    "\n",
    "mean_columns_b = b.mean(axis=0)\n",
    "print(\"Mean of columns of 'b'-\\n\",mean_columns_b)  # produces mean of the 3 columns \n",
    "\n",
    "centered_columns_b = b - mean_columns_b\n",
    "print(\"\\nCentered Columns of 'b' -\\n\",centered_columns_b) # Produces the central mean along columns\n",
    "\n",
    "mean_rows_b = b.mean(axis=0)\n",
    "print(\"\\nMean of rows of b-\\n\",mean_rows_b) # Produces mean of the 4 rows \n",
    "\n",
    "centered_rows_b = b - mean_rows_b\n",
    "print(\"\\n Centered Rows of 'b'- \\n\",centered_rows_b) # Produces centered mean along rows "
   ]
  },
  {
   "cell_type": "code",
   "execution_count": 69,
   "id": "562f9e0c",
   "metadata": {},
   "outputs": [
    {
     "name": "stdout",
     "output_type": "stream",
     "text": [
      "Mean of 'a' 0.0\n",
      "Mean of 'b' [-0.0634041   0.20738275 -0.14397865]\n"
     ]
    }
   ],
   "source": [
    "# to double check if we have done it correctly \n",
    "\n",
    "print(\"Mean of 'a'\",centered_mean_a.mean(0))\n",
    "print(\"Mean of 'b'\",centered_mean_b.mean(0))"
   ]
  },
  {
   "cell_type": "code",
   "execution_count": 70,
   "id": "2af68898",
   "metadata": {},
   "outputs": [
    {
     "name": "stdout",
     "output_type": "stream",
     "text": [
      "[ 0.18037951  0.3276378   0.49166266  0.66132536  0.81841024  0.94053573\n",
      "  1.00607242  0.99965371  0.91647373  0.76387392  0.5596446   0.3276342\n",
      "  0.09217674 -0.12685707 -0.31698955 -0.47353698 -0.59791653 -0.69490734\n",
      " -0.77000616 -0.82765831 -0.87058983 -0.899998   -0.91614826 -0.91897889\n",
      " -0.90850903 -0.88503285 -0.84917608 -0.80189243 -0.74443946 -0.67834492\n",
      " -0.60536117 -0.5273859  -0.44628967 -0.3635662  -0.27976647 -0.19382629\n",
      " -0.10260339 -0.00107914  0.11639793  0.25380718  0.41061646  0.57942355\n",
      "  0.74523702  0.88717891  0.982563    1.01233441  0.96617827  0.84555996\n",
      "  0.66361623  0.44192559]\n"
     ]
    }
   ],
   "source": [
    "a = np.linspace(1,5,50)\n",
    "b = np.linspace(1,5,50)\n",
    "c = np.sin(a) **10 + np.cos(10+b)*np.cos(b) \n",
    "print(c)"
   ]
  },
  {
   "cell_type": "markdown",
   "id": "1f5c9e55",
   "metadata": {},
   "source": [
    "### Comparision Operators Universal Functions"
   ]
  },
  {
   "cell_type": "code",
   "execution_count": 71,
   "id": "0e35b0ff",
   "metadata": {},
   "outputs": [
    {
     "name": "stdout",
     "output_type": "stream",
     "text": [
      "[1 2 3 4 5 6] \n",
      "\n",
      "Numbers greater than 3 in the array- [False False False  True  True  True]\n"
     ]
    }
   ],
   "source": [
    "a = np.array([1,2,3,4,5,6])\n",
    "\n",
    "print(a,'\\n')\n",
    "print(\"Numbers greater than 3 in the array-\",a>3) # This gives the result in boolean \n",
    "                                                  # The array = [   1,    2,      3,    4,        5,   6]\n",
    "                                                  # Hence        False ,False , False, True , True ,True    \n",
    "                                                  #               1<3,     2<3,   3<3,  4>3,   5>3 , 6>3"
   ]
  },
  {
   "cell_type": "code",
   "execution_count": 72,
   "id": "722dfb1a",
   "metadata": {},
   "outputs": [
    {
     "name": "stdout",
     "output_type": "stream",
     "text": [
      "Numbers less than 3 in the array- [ True  True False False False False]\n"
     ]
    }
   ],
   "source": [
    "print(\"Numbers less than 3 in the array-\",a<3)    # This gives the result in boolean \n",
    "                                                  # The array = [   1,     2,      3,      4,     5,   6]\n",
    "                                                  # Hence        True , True ,  False, False , False ,False    \n",
    "                                                  #               1<3,     2<3,   3<3,  4>3,   5>3 , 6>3"
   ]
  },
  {
   "cell_type": "code",
   "execution_count": 74,
   "id": "8c095d37",
   "metadata": {},
   "outputs": [
    {
     "name": "stdout",
     "output_type": "stream",
     "text": [
      "Numbers less than equal to 3 in the array - [ True  True  True False False False]\n"
     ]
    }
   ],
   "source": [
    "print(\"Numbers less than equal to 3 in the array -\",a<=3) # This gives the result in boolean \n",
    "                                                          # The array = [   1,     2,        3,       4,     5,   6]\n",
    "                                                          # Hence        True , True ,    True, False , False ,False    \n",
    "                                                          #               1<=3,     2<=3,   3<=3,  4>=3,   5>=3 , 6>=3"
   ]
  },
  {
   "cell_type": "code",
   "execution_count": 75,
   "id": "97cc8120",
   "metadata": {},
   "outputs": [
    {
     "name": "stdout",
     "output_type": "stream",
     "text": [
      "Numbers greater than equal to 3 in the array - [False False  True  True  True  True]\n"
     ]
    }
   ],
   "source": [
    "print(\"Numbers greater than equal to 3 in the array -\",a>=3)   # This gives the result in boolean \n",
    "                                                               # The array = [   1,     2,      3,      4,     5,    6]\n",
    "                                                               # Hence        False ,False , False,  True ,  True , True    \n",
    "                                                               #               1<3,     2<3,   3>=3,  4>=3,   5>=3 , 6>=3\n",
    "            "
   ]
  },
  {
   "cell_type": "code",
   "execution_count": 76,
   "id": "3499b977",
   "metadata": {},
   "outputs": [
    {
     "name": "stdout",
     "output_type": "stream",
     "text": [
      "Numbers not equal to 3 in the array - [ True  True False  True  True  True]\n"
     ]
    }
   ],
   "source": [
    "print(\"Numbers not equal to 3 in the array -\",a!=3)            # This gives the result in boolean \n",
    "                                                               # The array = [   1,     2,      3,      4,     5,    6]\n",
    "                                                               # Hence        True ,  True , False,  True ,  True , True    \n",
    "                                                               #               1!=3,   2!=3,   3==3,  4!=3,   5!=3 , 6!=3"
   ]
  },
  {
   "cell_type": "code",
   "execution_count": 77,
   "id": "0658cae1",
   "metadata": {},
   "outputs": [
    {
     "name": "stdout",
     "output_type": "stream",
     "text": [
      "Number equal to 3 - [False False  True False False False]\n"
     ]
    }
   ],
   "source": [
    "print(\"Number equal to 3 -\",a==3)                              # This gives the result in boolean \n",
    "                                                               # The array = [   1,     2,      3,      4,     5,       6]\n",
    "                                                               # Hence        False ,  False , True,  False ,  False , False    \n",
    "                                                               #               1!=3,   2!=3,   3==3,  4!=3,   5!=3 , 6!=3"
   ]
  },
  {
   "cell_type": "code",
   "execution_count": 81,
   "id": "2d7b0d8b",
   "metadata": {},
   "outputs": [
    {
     "name": "stdout",
     "output_type": "stream",
     "text": [
      "[False  True False False False False]\n"
     ]
    }
   ],
   "source": [
    "print(a*2==a**2)                                               # This gives the result in boolean \n",
    "                                                               # The array = [   1,     2,      3,      4,     5,       6]\n",
    "                                                               # According to expression\n",
    "                                                               #             [ 1*2 == 1**2,  2*2 == 2**2,  3*2==3**2, 4*2 == 4**2,  5*2 == 5**2,  6*2==6**2]\n",
    "                                                               #             [2!=1,            4 == 4,       6!= 9,       8!=16,    10 != 25,      12!= 36]\n",
    "                                                               # Hence        False,            True,        False,       False,       False,       False   \n",
    "                                                               "
   ]
  },
  {
   "cell_type": "code",
   "execution_count": 84,
   "id": "d1d529e1",
   "metadata": {},
   "outputs": [
    {
     "name": "stdout",
     "output_type": "stream",
     "text": [
      "[[0.13318673 0.98998394 0.10740083]\n",
      " [0.88199378 0.86457564 0.35248614]\n",
      " [0.31901537 0.80421083 0.92153252]\n",
      " [0.94779818 0.47399159 0.39615456]] \n",
      "\n",
      "Numbers greater than 5-\n",
      " [[False  True False]\n",
      " [ True  True False]\n",
      " [False  True  True]\n",
      " [ True False False]]\n"
     ]
    }
   ],
   "source": [
    "b = np.random.random((4,3))\n",
    "print(b,'\\n')\n",
    "print(\"Numbers greater than 5-\\n\", b>0.5)    # If the condition b>0.5 satisfies then it will be replaced by the boolean - True "
   ]
  },
  {
   "cell_type": "code",
   "execution_count": 87,
   "id": "6454074e",
   "metadata": {},
   "outputs": [
    {
     "data": {
      "text/plain": [
       "array([[6, 2, 7],\n",
       "       [8, 8, 8],\n",
       "       [5, 9, 2],\n",
       "       [9, 6, 3]])"
      ]
     },
     "execution_count": 87,
     "metadata": {},
     "output_type": "execute_result"
    }
   ],
   "source": [
    "b = np.random.randint(1,10,size=(4,3))\n",
    "b"
   ]
  },
  {
   "cell_type": "code",
   "execution_count": 90,
   "id": "5faaa1a1",
   "metadata": {},
   "outputs": [
    {
     "data": {
      "text/plain": [
       "12"
      ]
     },
     "execution_count": 90,
     "metadata": {},
     "output_type": "execute_result"
    }
   ],
   "source": [
    "np.count_nonzero(b) # Gives the non-zero elements present in the array"
   ]
  },
  {
   "cell_type": "code",
   "execution_count": 92,
   "id": "067251f4",
   "metadata": {},
   "outputs": [
    {
     "data": {
      "text/plain": [
       "2"
      ]
     },
     "execution_count": 92,
     "metadata": {},
     "output_type": "execute_result"
    }
   ],
   "source": [
    "print(np.count_nonzero(b<3)) # Gives the non-zero elements which are less than 3"
   ]
  },
  {
   "cell_type": "code",
   "execution_count": 94,
   "id": "23fa5e21",
   "metadata": {},
   "outputs": [
    {
     "name": "stdout",
     "output_type": "stream",
     "text": [
      "0\n"
     ]
    }
   ],
   "source": [
    "print(np.count_nonzero(b>100)) # Gives the non-zero elements which are greater than 100"
   ]
  },
  {
   "cell_type": "code",
   "execution_count": 95,
   "id": "791224ec",
   "metadata": {},
   "outputs": [
    {
     "data": {
      "text/plain": [
       "73"
      ]
     },
     "execution_count": 95,
     "metadata": {},
     "output_type": "execute_result"
    }
   ],
   "source": [
    "np.sum(b) # Gives the sum of all the values of the array "
   ]
  },
  {
   "cell_type": "code",
   "execution_count": 98,
   "id": "cca2ed4b",
   "metadata": {},
   "outputs": [
    {
     "name": "stdout",
     "output_type": "stream",
     "text": [
      "[[6 2 7]\n",
      " [8 8 8]\n",
      " [5 9 2]\n",
      " [9 6 3]]\n",
      "3\n"
     ]
    }
   ],
   "source": [
    "print(b)\n",
    "print(np.sum(b<4)) # There are 3 values that are less than 4\n",
    "                   # In this case values that are less than 4 are equated as 1 and values that are greater than or equal to 4 are equated to 0"
   ]
  },
  {
   "cell_type": "code",
   "execution_count": 99,
   "id": "fb9e709b",
   "metadata": {},
   "outputs": [
    {
     "name": "stdout",
     "output_type": "stream",
     "text": [
      "[[6 2 7]\n",
      " [8 8 8]\n",
      " [5 9 2]\n",
      " [9 6 3]]\n",
      "Number of values in rows that are greater than 4 - [2 3 2 2]\n",
      "Number of values in columns that are greater than 4 - [4 3 2]\n"
     ]
    }
   ],
   "source": [
    "print(b)\n",
    "print(\"Number of values in rows that are greater than 4 -\",np.sum(b>4,axis=1)) # Gives the number of values in a row that are greater than 4 \n",
    "                                                                               # In the first row there are 2 values \n",
    "                                                                               # In the second row there are 3 values\n",
    "                                                                               # In the third row there are 2 values \n",
    "                                                                               # In the fourth row there are 2 values\n",
    "                                                                               # So the result will be [2 3 2 2]\n",
    "                                                                                \n",
    "print(\"Number of values in columns that are greater than 4 -\",np.sum(b>4,axis=0))  # Gives the number of values in a column that are greater than 4 \n",
    "                                                                                   # In the first row there are 4 values \n",
    "                                                                                   # In the second row there are 3 values\n",
    "                                                                                   # In the third row there are 2 values \n",
    "                                                                                   # So the result will be [4 3 2]"
   ]
  },
  {
   "cell_type": "code",
   "execution_count": 101,
   "id": "a05258ca",
   "metadata": {},
   "outputs": [
    {
     "name": "stdout",
     "output_type": "stream",
     "text": [
      "[[6 2 7]\n",
      " [8 8 8]\n",
      " [5 9 2]\n",
      " [9 6 3]]\n",
      "Number of values in rows that are greater than 4 - [2 3 2 2]\n"
     ]
    }
   ],
   "source": [
    "print(b)\n",
    "print(\"Number of values in rows that are greater than 4 -\",np.count_nonzero(b>4,axis=1))"
   ]
  },
  {
   "cell_type": "code",
   "execution_count": 103,
   "id": "a7d69364",
   "metadata": {},
   "outputs": [
    {
     "name": "stdout",
     "output_type": "stream",
     "text": [
      "[[1. 1. 1.]\n",
      " [1. 1. 1.]\n",
      " [1. 1. 1.]\n",
      " [1. 1. 1.]]\n"
     ]
    }
   ],
   "source": [
    "a = np.ones((4,3))\n",
    "print(a)"
   ]
  },
  {
   "cell_type": "markdown",
   "id": "707359b0",
   "metadata": {},
   "source": [
    "### Counting entries "
   ]
  },
  {
   "cell_type": "code",
   "execution_count": 105,
   "id": "7cad0135",
   "metadata": {},
   "outputs": [
    {
     "name": "stdout",
     "output_type": "stream",
     "text": [
      "True\n",
      "False\n"
     ]
    }
   ],
   "source": [
    "# np.any() --> If there is atleast 1 true value then the result is considered as true \n",
    "\n",
    "print(np.any(a==1)) # This checks whether any one value in the array is equal to 1. \n",
    "                    #If yes, it prints true else it prints false\n",
    "                    # Here there is atleast one value of '1' so it prints true\n",
    "    \n",
    "print(np.any(a>1))  # This checks whether any one value in the array is greater than 1.\n",
    "                    # If yes, it prints true else it prints false \n",
    "                    # Here there are no values of 1 that are greater than that so it prints false "
   ]
  },
  {
   "cell_type": "code",
   "execution_count": 108,
   "id": "85bcfa29",
   "metadata": {},
   "outputs": [
    {
     "name": "stdout",
     "output_type": "stream",
     "text": [
      "[[6 2 7]\n",
      " [8 8 8]\n",
      " [5 9 2]\n",
      " [9 6 3]]\n",
      "True\n",
      "[False False  True  True]\n",
      "[ True  True False]\n"
     ]
    }
   ],
   "source": [
    "print(b)\n",
    "\n",
    "print(np.any(b>8)) # Checks if there is any one value in the array that is greater than 8\n",
    "                  # If yes, then prints true else false \n",
    "                  # Here there is one value 9 that is greater than 8 so it gives the result as true \n",
    "        \n",
    "print(np.any(b>8,axis=1))   # Checks if there is any one value in the row that is greater than 8 \n",
    "                            # If yes, then it prints true else it prints false \n",
    "                            # Here the first row has [false false false ] --> [false]\n",
    "                            # Here the second row has [false false false ]--> [false]\n",
    "                            # Here the third row has [false true false ] --> [true]\n",
    "                            # Here the fourth row has [true false false ] --> [true]\n",
    "                            # Hence the answer is [false false true true]\n",
    "\n",
    "\n",
    "print(np.any(b>8,axis=0))   # Checks if there is any one value in the column that is greater than 8 \n",
    "                            # If yes, then it prints true else it prints false \n",
    "                            # Here the first column has [false false false true ] --> [true]\n",
    "                            # Here the second column has [false false true false ]--> [false]\n",
    "                            # Here the third column has [false false false false ] --> [false]\n",
    "                            # Hence the answer is  [true true false ] "
   ]
  },
  {
   "cell_type": "code",
   "execution_count": 109,
   "id": "31b7ec42",
   "metadata": {},
   "outputs": [
    {
     "data": {
      "text/plain": [
       "array([[3, 4, 2, 4],\n",
       "       [4, 5, 2, 2],\n",
       "       [2, 5, 5, 4]])"
      ]
     },
     "execution_count": 109,
     "metadata": {},
     "output_type": "execute_result"
    }
   ],
   "source": [
    "a = np.random.randint(1,6,size=(3,4))\n",
    "a"
   ]
  },
  {
   "cell_type": "code",
   "execution_count": 110,
   "id": "1f867efb",
   "metadata": {},
   "outputs": [
    {
     "data": {
      "text/plain": [
       "False"
      ]
     },
     "execution_count": 110,
     "metadata": {},
     "output_type": "execute_result"
    }
   ],
   "source": [
    "# np.all() --> if there is any one value false then the result is considered as false \n",
    "\n",
    "print(np.all(a>3))  # This checks if there are values that are greater than 3\n",
    "                    # In the first row [false true false true]  -> [false]\n",
    "                    # In the second row [ true true false false ] -> [false]\n",
    "                    # In the third row [false true true true] -> [false]\n",
    "                    # Therefore the result we get is [false]"
   ]
  },
  {
   "cell_type": "code",
   "execution_count": 112,
   "id": "4c14a434",
   "metadata": {},
   "outputs": [
    {
     "name": "stdout",
     "output_type": "stream",
     "text": [
      "[[3 4 2 4]\n",
      " [4 5 2 2]\n",
      " [2 5 5 4]]\n",
      "True\n"
     ]
    }
   ],
   "source": [
    "print(a)\n",
    "print(np.all(a<10)) # This checks if there are values that are less than 10\n",
    "                    # In the first row [true true true true]  -> [true]\n",
    "                    # In the second row [ true true true true ] -> [true]\n",
    "                    # In the third row [true true true true] -> [true]\n",
    "                    # Therefore the result we get is [true]  "
   ]
  },
  {
   "cell_type": "code",
   "execution_count": 114,
   "id": "349c875f",
   "metadata": {},
   "outputs": [
    {
     "name": "stdout",
     "output_type": "stream",
     "text": [
      "[ True  True  True  True]\n",
      "[False False False]\n"
     ]
    }
   ],
   "source": [
    "print(np.all(a<6,axis=0))   # This checks if there are values that are less than 10\n",
    "                            # In the first row [true true true true]  -> [true]\n",
    "                            # In the second row [ true true true true ] -> [true]\n",
    "                            # In the third row [true true true true] -> [true]\n",
    "                            # In the fourth row [true true true true] -> [true]\n",
    "                            # Therefore the result we get is [true  true  true true] \n",
    "\n",
    "print(np.all(a==2,axis=1))  # This checks if there are values that are equal 1\n",
    "                            # In the first row [false false true]  -> [false]\n",
    "                            # In the second row [false false false] -> [false]\n",
    "                            # In the third row [true true false] -> [false]\n",
    "                            # Therefore the result we get is [false false false] "
   ]
  },
  {
   "cell_type": "markdown",
   "id": "1cd449d3",
   "metadata": {},
   "source": [
    "### Boolean Operators"
   ]
  },
  {
   "cell_type": "code",
   "execution_count": 123,
   "id": "178b6ba2",
   "metadata": {},
   "outputs": [
    {
     "name": "stdout",
     "output_type": "stream",
     "text": [
      "[[0.46147952 0.42350158 0.08800287 0.81545294]\n",
      " [0.81640652 0.41590406 0.2071232  0.7080092 ]\n",
      " [0.96138641 0.2140533  0.0304327  0.81328881]]\n",
      "\n",
      " [[False False False  True]\n",
      " [ True False False  True]\n",
      " [ True False False  True]]\n",
      "\n",
      " 4\n",
      "\n",
      " 4\n"
     ]
    }
   ],
   "source": [
    "a = np.random.random((3,4))\n",
    "\n",
    "print(a)\n",
    "\n",
    "print('\\n',((a>0.5)&(a<1))) # The output of this line will help you understand which are true and which are false based on the condition provided \n",
    "\n",
    "print('\\n',np.sum(a>0.5)& np.sum(a<1)) # This gives the result of values that are both greater than 0.5 and less than 1 \n",
    "\n",
    "print('\\n',np.sum(a>0.5)& np.sum(a<1)) # this also gives the same output"
   ]
  },
  {
   "cell_type": "code",
   "execution_count": 122,
   "id": "cb98fcfb",
   "metadata": {},
   "outputs": [
    {
     "name": "stdout",
     "output_type": "stream",
     "text": [
      "[[0.75285571 0.62685094 0.22748269 0.53541862]\n",
      " [0.16977719 0.49143682 0.46246878 0.21499383]\n",
      " [0.58219109 0.67212254 0.11513    0.85447859]]\n",
      "\n",
      " [[ True  True False False]\n",
      " [False False False False]\n",
      " [False  True False  True]]\n",
      "\n",
      " 4\n",
      "\n",
      " 4\n"
     ]
    }
   ],
   "source": [
    "print(a)\n",
    "\n",
    "print('\\n',((a>0.6)|(a==0.11513))) # The output of this line will help you in understanding why we are getting 4 values \n",
    "\n",
    "print('\\n',np.sum(a>0.6)|np.sum(a==0.11513)) # This gives the output if any one value is true \n",
    "\n",
    "print('\\n',np.sum(a>0.6) or np.sum(a==0.11513)) # This also gives the same output "
   ]
  },
  {
   "cell_type": "code",
   "execution_count": 131,
   "id": "83c194b2",
   "metadata": {},
   "outputs": [
    {
     "name": "stdout",
     "output_type": "stream",
     "text": [
      "[[0.46147952 0.42350158 0.08800287 0.81545294]\n",
      " [0.81640652 0.41590406 0.2071232  0.7080092 ]\n",
      " [0.96138641 0.2140533  0.0304327  0.81328881]]\n",
      "\n",
      " [[ True  True  True False]\n",
      " [False  True  True False]\n",
      " [False  True  True False]]\n",
      "\n",
      " 7\n"
     ]
    }
   ],
   "source": [
    "print(a)\n",
    "\n",
    "print('\\n',~(a>0.5)) # this shows how the output is being analysed \n",
    "\n",
    "print('\\n',np.sum (~(a>0.5)) ) # This gives all the values that are not greater than 0.5"
   ]
  },
  {
   "cell_type": "markdown",
   "id": "3b8d31d1",
   "metadata": {},
   "source": [
    "### Boolean Array as Masks"
   ]
  },
  {
   "cell_type": "code",
   "execution_count": 133,
   "id": "61a139d6",
   "metadata": {},
   "outputs": [
    {
     "data": {
      "text/plain": [
       "array([[0, 5, 0, 2],\n",
       "       [4, 2, 4, 3],\n",
       "       [5, 0, 4, 4],\n",
       "       [0, 0, 0, 0]])"
      ]
     },
     "execution_count": 133,
     "metadata": {},
     "output_type": "execute_result"
    }
   ],
   "source": [
    "x = np.random.randint(0,6,size=(4,4))\n",
    "x"
   ]
  },
  {
   "cell_type": "code",
   "execution_count": 137,
   "id": "5eaa663f",
   "metadata": {},
   "outputs": [
    {
     "name": "stdout",
     "output_type": "stream",
     "text": [
      "[[ True False  True False]\n",
      " [False False False False]\n",
      " [False  True False False]\n",
      " [ True  True  True  True]]\n",
      "\n",
      " [0 0 0 0 0 0 0]\n",
      "\n",
      " 7\n"
     ]
    }
   ],
   "source": [
    "print(x<2) # This gives the result of all the values in boolean format that are less than 2\n",
    "\n",
    "print('\\n',x[x<2])  # This gives the result in 1D array with the values that are less than 2\n",
    "                    # There are 7 values that are less than 2\n",
    "print('\\n',np.sum(x<2))"
   ]
  },
  {
   "cell_type": "markdown",
   "id": "8da70dc4",
   "metadata": {},
   "source": [
    "### Fancy Indexing"
   ]
  },
  {
   "cell_type": "code",
   "execution_count": 145,
   "id": "20562c95",
   "metadata": {},
   "outputs": [
    {
     "data": {
      "text/plain": [
       "array([79, 44, 32, 17, 73, 42, 23,  3, 92, 40])"
      ]
     },
     "execution_count": 145,
     "metadata": {},
     "output_type": "execute_result"
    }
   ],
   "source": [
    "a = np.random.randint(1,100,size=10)\n",
    "a"
   ]
  },
  {
   "cell_type": "code",
   "execution_count": 146,
   "id": "f03f17bd",
   "metadata": {},
   "outputs": [
    {
     "name": "stdout",
     "output_type": "stream",
     "text": [
      "[17, 44, 40]\n"
     ]
    }
   ],
   "source": [
    "# Now we can access multiple rows \n",
    "\n",
    "print([a[3],a[1],a[9]]) # This gives the element in the 3rd index , 1st index, 9th index of the array"
   ]
  },
  {
   "cell_type": "code",
   "execution_count": 147,
   "id": "6046503a",
   "metadata": {},
   "outputs": [
    {
     "data": {
      "text/plain": [
       "17"
      ]
     },
     "execution_count": 147,
     "metadata": {},
     "output_type": "execute_result"
    }
   ],
   "source": [
    "indexes = [3, 7, 1] # We are storing a lists of numbers \n",
    "a[3]                # by using the indexes values we are printing the value from the array 'a'"
   ]
  },
  {
   "cell_type": "code",
   "execution_count": 148,
   "id": "70f4cd67",
   "metadata": {},
   "outputs": [
    {
     "name": "stdout",
     "output_type": "stream",
     "text": [
      "[17  3 44]\n"
     ]
    }
   ],
   "source": [
    "print(a[indexes])   # values in indexes - 3 , 7 , 1 \n",
    "                    # a[3] --> 17 , a[7] --> 3, a[1] --> 44 "
   ]
  },
  {
   "cell_type": "code",
   "execution_count": 171,
   "id": "2cab133a",
   "metadata": {},
   "outputs": [
    {
     "data": {
      "text/plain": [
       "array([[67, 60, 59],\n",
       "       [47, 93, 32],\n",
       "       [62, 94, 23]])"
      ]
     },
     "execution_count": 171,
     "metadata": {},
     "output_type": "execute_result"
    }
   ],
   "source": [
    "b = np.random.randint(1,100,size = (3,3))\n",
    "b"
   ]
  },
  {
   "cell_type": "code",
   "execution_count": 172,
   "id": "098c1b46",
   "metadata": {},
   "outputs": [
    {
     "name": "stdout",
     "output_type": "stream",
     "text": [
      "[47 93 32]\n",
      "32\n",
      "[32, 93, 60]\n"
     ]
    }
   ],
   "source": [
    "print(b[1]) # Gives the second row in the array 'b'\n",
    "print(b[1,2]) # Gives the value present at second row and the third column of the array \n",
    "print([b[1,2],b[1,1],b[0,1]]) # Gives multiple values "
   ]
  },
  {
   "cell_type": "code",
   "execution_count": 178,
   "id": "e0430ce8",
   "metadata": {},
   "outputs": [
    {
     "name": "stdout",
     "output_type": "stream",
     "text": [
      "[[67 60 59]\n",
      " [47 93 32]\n",
      " [62 94 23]] \n",
      "\n",
      "[[67 60 59]\n",
      " [47 93 32]] \n",
      "\n",
      "[[67 60 59]]\n"
     ]
    }
   ],
   "source": [
    "ind = [0,1]   \n",
    "\n",
    "print(b,'\\n')     # Here we get the values of array 'b'\n",
    "print(b[ind],'\\n') # Here we are getting the row 0 and row 1 of the array 'b'\n",
    " "
   ]
  },
  {
   "cell_type": "code",
   "execution_count": 179,
   "id": "4abe1a9b",
   "metadata": {},
   "outputs": [
    {
     "name": "stdout",
     "output_type": "stream",
     "text": [
      "[67 93]\n"
     ]
    }
   ],
   "source": [
    "# The important thing to note here is that shape of results reflects the shape of the index arrays \n",
    "\n",
    "# Accessing values from 2D array \n",
    "\n",
    "b_rows= [0,1]\n",
    "b_columns = [0,1]\n",
    "print(b[b_rows, b_columns]) # You can notice that first value is a combination of b[0,0] and the secind value is a combination of b[1,1]"
   ]
  },
  {
   "cell_type": "markdown",
   "id": "37aa66cf",
   "metadata": {},
   "source": [
    "### Combined Indexing"
   ]
  },
  {
   "cell_type": "code",
   "execution_count": 192,
   "id": "d4ba55e1",
   "metadata": {},
   "outputs": [
    {
     "name": "stdout",
     "output_type": "stream",
     "text": [
      "[[ 0  1  2  3]\n",
      " [ 4  5  6  7]\n",
      " [ 8  9 10 11]]\n"
     ]
    }
   ],
   "source": [
    "x = np.arange(12).reshape([3,4]) \n",
    "print(x)"
   ]
  },
  {
   "cell_type": "code",
   "execution_count": 193,
   "id": "2f5be793",
   "metadata": {},
   "outputs": [
    {
     "name": "stdout",
     "output_type": "stream",
     "text": [
      "[ 8  9 10]\n"
     ]
    }
   ],
   "source": [
    "print(x[2,[0,1,2]]) # Here in this code [2,[0,1,2]]\n",
    "                    # the 2 means the 3rd row is selected as indexing starts from 0 \n",
    "                    # then [0,1,2] are the index values of each element in row 3 [8, 9, 10]"
   ]
  },
  {
   "cell_type": "code",
   "execution_count": 194,
   "id": "dfb4f4c9",
   "metadata": {},
   "outputs": [
    {
     "name": "stdout",
     "output_type": "stream",
     "text": [
      "[[ 6  4  6]\n",
      " [10  8 10]]\n"
     ]
    }
   ],
   "source": [
    "print(x[1:,[2,0,2]])    # Here in this code we are using slicing \n",
    "                        # 1: states that the 2nd row upto the final row is selected \n",
    "                        # [2,0,2] selects values at index 2 , 0\n",
    "                        # Values at row 2 at index 2,0,2 --> 6  4  6\n",
    "                        # Values at row 3 at index 2,0,2 --> 10 8  10"
   ]
  },
  {
   "cell_type": "code",
   "execution_count": 217,
   "id": "3cc996fa",
   "metadata": {},
   "outputs": [
    {
     "name": "stdout",
     "output_type": "stream",
     "text": [
      "[[ 0  1  2  3]\n",
      " [ 4  5  6  7]\n",
      " [ 8  9 10 11]] \n",
      "\n",
      "(3, 4) \n",
      "\n",
      "[0 1 2] \n",
      "\n",
      "(3,) \n",
      "\n",
      "[False  True False  True]\n"
     ]
    }
   ],
   "source": [
    "print(x,'\\n')\n",
    "print(x.shape,'\\n')\n",
    "row = np.array([0,1,2])\n",
    "print(row,'\\n')\n",
    "print(row.shape,'\\n')\n",
    "\n",
    "mask = np.array([0,1,0,1],dtype = bool)\n",
    "print(mask)"
   ]
  },
  {
   "cell_type": "code",
   "execution_count": 218,
   "id": "6de744bf",
   "metadata": {},
   "outputs": [
    {
     "name": "stdout",
     "output_type": "stream",
     "text": [
      "[[0]\n",
      " [1]\n",
      " [2]] \n",
      "\n",
      "[[ 1  3]\n",
      " [ 5  7]\n",
      " [ 9 11]] \n",
      "\n"
     ]
    }
   ],
   "source": [
    "print(row[:,np.newaxis],'\\n')\n",
    "\n",
    "print(x[row[:,np.newaxis],mask],'\\n')"
   ]
  },
  {
   "cell_type": "markdown",
   "id": "161238a5",
   "metadata": {},
   "source": [
    "### Modifying Values using Fancy Indexing"
   ]
  },
  {
   "cell_type": "code",
   "execution_count": 222,
   "id": "9d722385",
   "metadata": {},
   "outputs": [
    {
     "name": "stdout",
     "output_type": "stream",
     "text": [
      "[0 1 2 3 4 5 6 7 8 9]\n",
      "[2 8 1 4]\n",
      "[2 8 1 4]\n"
     ]
    }
   ],
   "source": [
    "x = np.arange(10)   # We are creating an array of size 10\n",
    "print(x)\n",
    "i = np.array([2,8,1,4]) # We are creating an array having values [2,8,1,4]\n",
    "print(i)\n",
    "print(x[i])   # We are using the values in array 'i' as index and x as variable"
   ]
  },
  {
   "cell_type": "code",
   "execution_count": 224,
   "id": "5fc5a726",
   "metadata": {},
   "outputs": [
    {
     "name": "stdout",
     "output_type": "stream",
     "text": [
      "[999 999 999 999]\n",
      "[  0 999 999   3 999   5   6   7 999   9]\n"
     ]
    }
   ],
   "source": [
    "x[i] = 999  # This modifies the values at index value 2,8,1,4 of the array x \n",
    "            # array i consists of [2,8,1,4]\n",
    "            # The values of x[2], x[8],x[1],x[4] are modified to 999\n",
    "\n",
    "print(x[i])   \n",
    "print(x)"
   ]
  },
  {
   "cell_type": "code",
   "execution_count": 225,
   "id": "9d7a7706",
   "metadata": {},
   "outputs": [
    {
     "name": "stdout",
     "output_type": "stream",
     "text": [
      "[  0 989 989   3 989   5   6   7 989   9]\n"
     ]
    }
   ],
   "source": [
    "x[i] -= 10  # This code will take the value 999 and subtract 10 from it and store it in x[i]\n",
    "            # x[i] = x[i] - 10 \n",
    "            # x[2]= x[2] - 10    x[8]= x[8] - 10   x[1]= x[1] - 10   x[4]= x[4] - 10        \n",
    "            # x[2] = 999 - 10    x[8] = 999 - 10   x[1] = 999 - 10   x[4] = 999 - 10\n",
    "            # x[2] = 989         x[8] = 989        x[1] = 989        x[4] = 989      \n",
    "print(x)"
   ]
  },
  {
   "cell_type": "markdown",
   "id": "e42e1717",
   "metadata": {},
   "source": [
    "### at()"
   ]
  },
  {
   "cell_type": "code",
   "execution_count": 226,
   "id": "76f8b570",
   "metadata": {},
   "outputs": [
    {
     "name": "stdout",
     "output_type": "stream",
     "text": [
      "[0. 0. 0. 0. 0. 0. 0. 0. 0. 0.]\n",
      "[2 8 1 4]\n",
      "[0. 1. 1. 0. 1. 0. 0. 0. 1. 0.]\n"
     ]
    }
   ],
   "source": [
    "x = np.zeros(10)  # creates an array of zeros \n",
    "print(x)\n",
    "print(i) \n",
    "np.add.at(x,i,1)   # adds the value of variable x present at index i to 1 \n",
    "                   # x[2], x[8], x[1], x[4]\n",
    "                   #   1,  1 ,    1,   1\n",
    "print(x)"
   ]
  },
  {
   "cell_type": "markdown",
   "id": "dd6ce3b2",
   "metadata": {},
   "source": []
  },
  {
   "cell_type": "code",
   "execution_count": null,
   "id": "446e2617",
   "metadata": {},
   "outputs": [],
   "source": []
  }
 ],
 "metadata": {
  "kernelspec": {
   "display_name": "Python 3 (ipykernel)",
   "language": "python",
   "name": "python3"
  },
  "language_info": {
   "codemirror_mode": {
    "name": "ipython",
    "version": 3
   },
   "file_extension": ".py",
   "mimetype": "text/x-python",
   "name": "python",
   "nbconvert_exporter": "python",
   "pygments_lexer": "ipython3",
   "version": "3.11.5"
  }
 },
 "nbformat": 4,
 "nbformat_minor": 5
}
